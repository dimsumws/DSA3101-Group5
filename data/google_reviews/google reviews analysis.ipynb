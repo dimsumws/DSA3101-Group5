{
 "cells": [
  {
   "cell_type": "code",
   "execution_count": 4,
   "metadata": {},
   "outputs": [
    {
     "name": "stdout",
     "output_type": "stream",
     "text": [
      "Index(['Stars', 'Reservation recommended', 'Visited on', 'Wait time',\n",
      "       'Published date', 'isLocalGuide', 'Original language', 'Cleaned Text'],\n",
      "      dtype='object')\n"
     ]
    },
    {
     "name": "stderr",
     "output_type": "stream",
     "text": [
      "[nltk_data] Downloading package wordnet to C:\\Users\\Zi\n",
      "[nltk_data]     Hao\\AppData\\Roaming\\nltk_data...\n",
      "[nltk_data]   Package wordnet is already up-to-date!\n"
     ]
    }
   ],
   "source": [
    "import pandas as pd\n",
    "import re\n",
    "import nltk\n",
    "from nltk.corpus import stopwords\n",
    "from nltk.stem import WordNetLemmatizer\n",
    "nltk.download('wordnet')\n",
    "\n",
    "df = pd.read_excel(\"google reviews cleaned df_text.xlsx\")\n",
    "print(df.columns)"
   ]
  },
  {
   "cell_type": "markdown",
   "metadata": {},
   "source": [
    "We begin pre-processing the google reviews with text for sentimental analysis."
   ]
  },
  {
   "cell_type": "code",
   "execution_count": 5,
   "metadata": {},
   "outputs": [],
   "source": [
    "stop_words = set(stopwords.words('english'))\n",
    "lemmatizer = WordNetLemmatizer()\n",
    "\n",
    "def clean_text(text):\n",
    "    \"\"\"Lowercase, remove special characters, and extra spaces.\"\"\"\n",
    "    text = text.lower().strip()\n",
    "    text = re.sub(r'[^a-z0-9\\s]', '', text) # Keep only alphanumeric characters\n",
    "    text = re.sub(r'\\s+', ' ', text).strip() # Remove extra spaces\n",
    "    words = text.split()\n",
    "    words = [lemmatizer.lemmatize(word) for word in words if word not in stop_words] # Remove stopwords + Lemmatization\n",
    "    return ' '.join(words)\n",
    "\n",
    "df['Preprocessed Text'] = df['Cleaned Text'].apply(clean_text)"
   ]
  },
  {
   "cell_type": "markdown",
   "metadata": {},
   "source": [
    "Let's preview the dataset."
   ]
  },
  {
   "cell_type": "code",
   "execution_count": 6,
   "metadata": {},
   "outputs": [
    {
     "name": "stdout",
     "output_type": "stream",
     "text": [
      "   Stars Reservation recommended Visited on     Wait time Published date  \\\n",
      "0      5                     Yes    Weekday  Up to 10 min     2025-02-27   \n",
      "1      5                     NaN    Weekday           NaN     2025-02-27   \n",
      "2      5                     NaN    Weekday           NaN     2025-02-27   \n",
      "3      5                      No    Weekday     10–30 min     2025-02-27   \n",
      "4      5                     NaN    Weekday           NaN     2025-02-27   \n",
      "\n",
      "   isLocalGuide Original language  \\\n",
      "0         False                en   \n",
      "1          True                id   \n",
      "2          True                id   \n",
      "3          True                en   \n",
      "4          True                th   \n",
      "\n",
      "                                        Cleaned Text  \\\n",
      "0  We had such a great day at Universal Studios S...   \n",
      "1  Universal Studios Singapore is a very popular ...   \n",
      "2                very amazing.\\nmodern and beautiful   \n",
      "3  This is one of the go to theme parks not only ...   \n",
      "4  It's a bit old but still fun\\n\\nRecommended to...   \n",
      "\n",
      "                                   Preprocessed Text  \n",
      "0  great day universal studio singapore visited j...  \n",
      "1  universal studio singapore popular tourist des...  \n",
      "2                           amazing modern beautiful  \n",
      "3  one go theme park singapore also osaka japan u...  \n",
      "4  bit old still fun recommended play 16001900 pe...  \n"
     ]
    }
   ],
   "source": [
    "print(df.head())"
   ]
  },
  {
   "cell_type": "markdown",
   "metadata": {},
   "source": [
    "Let's segment the reviews into 5 segments based on 'Stars'."
   ]
  },
  {
   "cell_type": "code",
   "execution_count": 7,
   "metadata": {},
   "outputs": [
    {
     "data": {
      "image/png": "[encoded data removed]",
      "text/plain": [
       "<Figure size 600x600 with 1 Axes>"
      ]
     },
     "metadata": {},
     "output_type": "display_data"
    }
   ],
   "source": [
    "import matplotlib.pyplot as plt\n",
    "import seaborn as sns\n",
    "\n",
    "# Count the occurrences of each rating\n",
    "rating_counts = df['Stars'].value_counts().sort_index()\n",
    "\n",
    "# Create the bar plot\n",
    "plt.figure(figsize=(6, 6))\n",
    "sns.barplot(x=rating_counts.index, y=rating_counts.values, palette='viridis')\n",
    "\n",
    "# Adding labels and title\n",
    "plt.title('Distribution of Ratings', fontsize=12)\n",
    "plt.xlabel('Stars', fontsize=12)\n",
    "plt.ylabel('Number of Reviews', fontsize=12)\n",
    "plt.xticks(rotation=45)\n",
    "\n",
    "# Show the plot\n",
    "plt.show()"
   ]
  },
  {
   "cell_type": "markdown",
   "metadata": {},
   "source": [
    "Let's conduct sentimental analysis to better understand the tone behind the text data."
   ]
  },
  {
   "cell_type": "code",
   "execution_count": null,
   "metadata": {},
   "outputs": [
    {
     "name": "stderr",
     "output_type": "stream",
     "text": [
      "[nltk_data] Downloading package vader_lexicon to C:\\Users\\Zi\n",
      "[nltk_data]     Hao\\AppData\\Roaming\\nltk_data...\n"
     ]
    },
    {
     "data": {
      "text/plain": [
       "positive    1887\n",
       "neutral      275\n",
       "negative     218\n",
       "Name: Sentiment_Label, dtype: int64"
      ]
     },
     "execution_count": 9,
     "metadata": {},
     "output_type": "execute_result"
    }
   ],
   "source": [
    "from nltk.sentiment.vader import SentimentIntensityAnalyzer\n",
    "#nltk.download('vader_lexicon')\n",
    "sid = SentimentIntensityAnalyzer()\n",
    "\n",
    "def get_sentiment(text):\n",
    "    sentiment = sid.polarity_scores(text)\n",
    "    return sentiment['compound']  # The compound score indicates overall sentiment\n",
    "\n",
    "df['Sentiment'] = df['Preprocessed Text'].apply(get_sentiment)\n",
    "df['Sentiment_Label'] = df['Sentiment'].apply(lambda x: 'positive' if x >= 0.05 else ('negative' if x <= -0.05 else 'neutral'))\n",
    "df['Sentiment_Label'].value_counts()\n"
   ]
  },
  {
   "cell_type": "markdown",
   "metadata": {},
   "source": [
    "We follow up by plotting the sentiment label against the stars of the review."
   ]
  },
  {
   "cell_type": "code",
   "execution_count": 10,
   "metadata": {},
   "outputs": [
    {
     "data": {
      "image/png": "[encoded data removed]",
      "text/plain": [
       "<Figure size 640x480 with 1 Axes>"
      ]
     },
     "metadata": {},
     "output_type": "display_data"
    }
   ],
   "source": [
    "sns.boxplot(x='Sentiment_Label', y='Stars', data=df, palette='viridis')\n",
    "plt.title('Ratings by Sentiment')\n",
    "plt.xlabel('Sentiment')\n",
    "plt.ylabel('Stars')\n",
    "plt.show()"
   ]
  },
  {
   "cell_type": "markdown",
   "metadata": {},
   "source": [
    "We now look for the probable occurances of high-risk interactions stated in the reviews. We include high risk keywords and create a function to assign a risk score to these reviews."
   ]
  },
  {
   "cell_type": "code",
   "execution_count": null,
   "metadata": {},
   "outputs": [],
   "source": [
    "# Define high-risk keywords\n",
    "high_risk_keywords = [\n",
    "    \"accident\", \"injury\", \"unsafe\", \"dangerous\", \"broken\", \"malfunction\", \n",
    "    \"sick\", \"food poisoning\", \"crowded\", \"long wait\", \"unhygienic\", \"fell\", \"hurt\"\n",
    "]"
   ]
  }
 ],
 "metadata": {
  "kernelspec": {
   "display_name": "Python 3",
   "language": "python",
   "name": "python3"
  },
  "language_info": {
   "codemirror_mode": {
    "name": "ipython",
    "version": 3
   },
   "file_extension": ".py",
   "mimetype": "text/x-python",
   "name": "python",
   "nbconvert_exporter": "python",
   "pygments_lexer": "ipython3",
   "version": "3.10.6"
  }
 },
 "nbformat": 4,
 "nbformat_minor": 2
}
