{
 "cells": [
  {
   "cell_type": "markdown",
   "metadata": {},
   "source": [
    "Importing necessary libraries"
   ]
  },
  {
   "cell_type": "code",
   "execution_count": 7,
   "metadata": {},
   "outputs": [],
   "source": [
    "import pandas as pd\n",
    "import re\n",
    "import nltk\n",
    "from nltk.corpus import stopwords\n",
    "from nltk.tokenize import word_tokenize\n",
    "#nltk.download('stopwords')\n",
    "#nltk.download('punkt')"
   ]
  },
  {
   "cell_type": "markdown",
   "metadata": {},
   "source": [
    "We first start by importing googlereviews5000.xlsx. We dropped less useful columns to make our dataset more compact."
   ]
  },
  {
   "cell_type": "code",
   "execution_count": 8,
   "metadata": {},
   "outputs": [
    {
     "name": "stdout",
     "output_type": "stream",
     "text": [
      "Index(['rating', 'reservation_recommended', 'visited_on', 'wait_time',\n",
      "       'published_date', 'is_local_guide', 'text', 'original_language',\n",
      "       'text_translated'],\n",
      "      dtype='object')\n",
      "rating                        0\n",
      "reservation_recommended    1988\n",
      "visited_on                 1780\n",
      "wait_time                  1899\n",
      "published_date                0\n",
      "is_local_guide                0\n",
      "text                       2612\n",
      "original_language          2607\n",
      "text_translated            4293\n",
      "dtype: int64\n"
     ]
    }
   ],
   "source": [
    "df = pd.read_excel('googlereviews5000.xlsx')\n",
    "\n",
    "df = df.drop(columns = ['rating', 'reviewUrl', 'reviewerNumberOfReviews', 'title', 'likesCount', 'isAdvertisement', 'reviewerId'])\n",
    "df.rename(columns= {'stars' : 'rating',\n",
    "                    'reviewContext/Reservation recommended' : 'reservation_recommended',\n",
    "                    'reviewContext/Visited on' : 'visited_on',\n",
    "                    'reviewContext/Wait time' : 'wait_time',\n",
    "                    'publishedAtDate' : 'published_date',\n",
    "                    'isLocalGuide' : 'is_local_guide',\n",
    "                    'originalLanguage' : 'original_language',\n",
    "                    'textTranslated' : 'text_translated'}, inplace=True)\n",
    "\n",
    "print(df.columns)\n",
    "\n",
    "print(df.isnull().sum()) \n"
   ]
  },
  {
   "cell_type": "markdown",
   "metadata": {},
   "source": [
    "Let's see how many unique languages the reviews contain. We keep the original text for English reviews and the translated text for non-English reviews."
   ]
  },
  {
   "cell_type": "code",
   "execution_count": 9,
   "metadata": {},
   "outputs": [
    {
     "name": "stdout",
     "output_type": "stream",
     "text": [
      "[nan 'en' 'id' 'th' 'ko' 'zh-Hant' 'ja' 'zh' 'pl' 'da' 'ru' 'iw' 'vi' 'lt'\n",
      " 'fr' 'zu' 'de' 'cs' 'es' 'tr' 'ar' 'it' 'uk' 'ro' 'fil' 'hi' 'pt' 'my'\n",
      " 'sv' 'no' 'la' 'ta' 'fy' 'el' 'ceb' 'ms' 'is' 'nl' 'mr' 'hu' 'gu']\n",
      "Index(['rating', 'reservation_recommended', 'visited_on', 'wait_time',\n",
      "       'published_date', 'is_local_guide', 'original_language', 'review_text'],\n",
      "      dtype='object')\n",
      "5000\n"
     ]
    }
   ],
   "source": [
    "print(df['original_language'].unique())\n",
    "\n",
    "df['review_text'] = df.apply(lambda row: row[\"text\"] if row[\"original_language\"] == \"en\" else row[\"text_translated\"], axis = 1)\n",
    "df = df.drop(columns = [\"text\", \"text_translated\"])\n",
    "\n",
    "print(df.columns)\n",
    "print(df.shape[0])\n"
   ]
  },
  {
   "cell_type": "markdown",
   "metadata": {},
   "source": [
    "We proceed to clean other aspects of the data. \n",
    "We first slice the data in the 'publishedAtDate' column to convert it to a date object.\n",
    "We fill in empty values in 'Visited on' with the corresponding date of the review. Here we are assuming the reviewers published the review on the same day that they visited USS to maximize data retention while maintaining data integrity."
   ]
  },
  {
   "cell_type": "code",
   "execution_count": 10,
   "metadata": {},
   "outputs": [
    {
     "name": "stdout",
     "output_type": "stream",
     "text": [
      "rating                      int64\n",
      "reservation_recommended    object\n",
      "visited_on                 object\n",
      "wait_time                  object\n",
      "published_date             object\n",
      "is_local_guide               bool\n",
      "original_language          object\n",
      "review_text                object\n",
      "dtype: object\n",
      "2025-02-27 00:00:00\n"
     ]
    }
   ],
   "source": [
    "print(df.dtypes)\n",
    "\n",
    "df['published_date'] = df['published_date'].str[:10]\n",
    "\n",
    "df['published_date'] = pd.to_datetime(df['published_date'])\n",
    "\n",
    "df['visited_on'] = df['published_date'].apply(lambda x: \"Weekend\" if pd.notna(x) and x.weekday() >= 5 else \"Weekday\")\n",
    "\n",
    "print(df['published_date'][0])"
   ]
  },
  {
   "cell_type": "markdown",
   "metadata": {},
   "source": [
    "We notice there are a large number of missing data in the 'Cleaned Text' column, indicating many reviewers did not write any text as part of the review. However we could still keep these reviews as they still contain relevant information on the time of the review and corresponding rating. We will store these textless data in a separate dataframe."
   ]
  },
  {
   "cell_type": "code",
   "execution_count": 11,
   "metadata": {},
   "outputs": [
    {
     "name": "stdout",
     "output_type": "stream",
     "text": [
      "rating                        0\n",
      "reservation_recommended    1988\n",
      "visited_on                    0\n",
      "wait_time                  1899\n",
      "published_date                0\n",
      "is_local_guide                0\n",
      "original_language          2607\n",
      "review_text                2620\n",
      "dtype: int64\n"
     ]
    }
   ],
   "source": [
    "print(df.isnull().sum()) \n",
    "\n",
    "df_no_text = df[df[\"review_text\"].isna() | (df[\"review_text\"].str.strip() == \"\")]\n",
    "df_text = df[~df[\"review_text\"].isna() & (df[\"review_text\"].str.strip() != \"\")]"
   ]
  },
  {
   "cell_type": "markdown",
   "metadata": {},
   "source": [
    "We save these 2 dataframe into 2 separate excel file to do further analysis."
   ]
  },
  {
   "cell_type": "code",
   "execution_count": 12,
   "metadata": {},
   "outputs": [],
   "source": [
    "df_no_text.to_excel(\"google reviews cleaned df_no_text.xlsx\", index = False)\n",
    "df_text.to_excel(\"google reviews cleaned df_text.xlsx\", index = False)"
   ]
  }
 ],
 "metadata": {
  "kernelspec": {
   "display_name": "Python 3",
   "language": "python",
   "name": "python3"
  },
  "language_info": {
   "codemirror_mode": {
    "name": "ipython",
    "version": 3
   },
   "file_extension": ".py",
   "mimetype": "text/x-python",
   "name": "python",
   "nbconvert_exporter": "python",
   "pygments_lexer": "ipython3",
   "version": "3.10.6"
  }
 },
 "nbformat": 4,
 "nbformat_minor": 2
}
