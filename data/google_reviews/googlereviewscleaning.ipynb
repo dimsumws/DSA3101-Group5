{
 "cells": [
  {
   "cell_type": "markdown",
   "metadata": {},
   "source": [
    "Importing necessary libraries"
   ]
  },
  {
   "cell_type": "code",
   "execution_count": 2,
   "metadata": {},
   "outputs": [
    {
     "name": "stderr",
     "output_type": "stream",
     "text": [
      "[nltk_data] Downloading package stopwords to C:\\Users\\Zi\n",
      "[nltk_data]     Hao\\AppData\\Roaming\\nltk_data...\n",
      "[nltk_data]   Package stopwords is already up-to-date!\n",
      "[nltk_data] Downloading package punkt to C:\\Users\\Zi\n",
      "[nltk_data]     Hao\\AppData\\Roaming\\nltk_data...\n",
      "[nltk_data]   Package punkt is already up-to-date!\n"
     ]
    },
    {
     "data": {
      "text/plain": [
       "True"
      ]
     },
     "execution_count": 2,
     "metadata": {},
     "output_type": "execute_result"
    }
   ],
   "source": [
    "import pandas as pd\n",
    "import re\n",
    "import nltk\n",
    "from nltk.corpus import stopwords\n",
    "from nltk.tokenize import word_tokenize\n",
    "nltk.download('stopwords')\n",
    "nltk.download('punkt')"
   ]
  },
  {
   "cell_type": "markdown",
   "metadata": {},
   "source": [
    "We first start by importing googlereviews5000.xlsx. We dropped less useful columns to make our dataset more compact."
   ]
  },
  {
   "cell_type": "code",
   "execution_count": 4,
   "metadata": {},
   "outputs": [
    {
     "name": "stdout",
     "output_type": "stream",
     "text": [
      "Index(['stars', 'rating', 'reviewContext/Reservation recommended',\n",
      "       'reviewContext/Visited on', 'reviewContext/Wait time',\n",
      "       'publishedAtDate', 'isLocalGuide', 'text', 'originalLanguage',\n",
      "       'textTranslated'],\n",
      "      dtype='object')\n"
     ]
    }
   ],
   "source": [
    "df = pd.read_excel('googlereviews5000.xlsx')\n",
    "\n",
    "df = df.drop(columns=['reviewUrl', 'reviewerNumberOfReviews', 'title', 'likesCount', 'isAdvertisement', 'reviewerId'])\n",
    "print(df.columns)"
   ]
  },
  {
   "cell_type": "markdown",
   "metadata": {},
   "source": [
    "Let's see how many unique languages the reviews contain."
   ]
  },
  {
   "cell_type": "code",
   "execution_count": 7,
   "metadata": {},
   "outputs": [
    {
     "name": "stdout",
     "output_type": "stream",
     "text": [
      "[nan 'en' 'id' 'th' 'ko' 'zh-Hant' 'ja' 'zh' 'pl' 'da' 'ru' 'iw' 'vi' 'lt'\n",
      " 'fr' 'zu' 'de' 'cs' 'es' 'tr' 'ar' 'it' 'uk' 'ro' 'fil' 'hi' 'pt' 'my'\n",
      " 'sv' 'no' 'la' 'ta' 'fy' 'el' 'ceb' 'ms' 'is' 'nl' 'mr' 'hu' 'gu']\n"
     ]
    }
   ],
   "source": [
    "print(df['originalLanguage'].unique())"
   ]
  }
 ],
 "metadata": {
  "kernelspec": {
   "display_name": "Python 3",
   "language": "python",
   "name": "python3"
  },
  "language_info": {
   "codemirror_mode": {
    "name": "ipython",
    "version": 3
   },
   "file_extension": ".py",
   "mimetype": "text/x-python",
   "name": "python",
   "nbconvert_exporter": "python",
   "pygments_lexer": "ipython3",
   "version": "3.10.6"
  }
 },
 "nbformat": 4,
 "nbformat_minor": 2
}
