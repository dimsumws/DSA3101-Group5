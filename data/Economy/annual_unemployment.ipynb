{
 "cells": [
  {
   "cell_type": "code",
   "execution_count": 1,
   "metadata": {},
   "outputs": [],
   "source": [
    "import requests\n",
    "import pandas as pd"
   ]
  },
  {
   "cell_type": "code",
   "execution_count": 2,
   "metadata": {},
   "outputs": [
    {
     "name": "stdout",
     "output_type": "stream",
     "text": [
      "{'help': 'https://data.gov.sg/api/3/action/help_show?name=datastore_search', 'success': True, 'result': {'resource_id': 'd_e3598914c86699a9a36e68190f78c59a', 'fields': [{'type': 'numeric', 'id': 'year'}, {'type': 'text', 'id': 'residential_status'}, {'type': 'numeric', 'id': 'unemployment_rate'}, {'type': 'int4', 'id': '_id'}], 'records': [{'_id': 1, 'year': '1992', 'residential_status': 'overall', 'unemployment_rate': '1.8'}, {'_id': 2, 'year': '1993', 'residential_status': 'overall', 'unemployment_rate': '1.7'}, {'_id': 3, 'year': '1994', 'residential_status': 'overall', 'unemployment_rate': '1.7'}, {'_id': 4, 'year': '1995', 'residential_status': 'overall', 'unemployment_rate': '1.8'}, {'_id': 5, 'year': '1996', 'residential_status': 'overall', 'unemployment_rate': '1.7'}, {'_id': 6, 'year': '1997', 'residential_status': 'overall', 'unemployment_rate': '1.4'}, {'_id': 7, 'year': '1998', 'residential_status': 'overall', 'unemployment_rate': '2.5'}, {'_id': 8, 'year': '1999', 'residential_status': 'overall', 'unemployment_rate': '2.8'}, {'_id': 9, 'year': '2000', 'residential_status': 'overall', 'unemployment_rate': '2.7'}, {'_id': 10, 'year': '2001', 'residential_status': 'overall', 'unemployment_rate': '2.7'}, {'_id': 11, 'year': '2002', 'residential_status': 'overall', 'unemployment_rate': '3.6'}, {'_id': 12, 'year': '2003', 'residential_status': 'overall', 'unemployment_rate': '4'}, {'_id': 13, 'year': '2004', 'residential_status': 'overall', 'unemployment_rate': '3.4'}, {'_id': 14, 'year': '2005', 'residential_status': 'overall', 'unemployment_rate': '3.1'}, {'_id': 15, 'year': '2006', 'residential_status': 'overall', 'unemployment_rate': '2.7'}, {'_id': 16, 'year': '2007', 'residential_status': 'overall', 'unemployment_rate': '2.1'}, {'_id': 17, 'year': '2008', 'residential_status': 'overall', 'unemployment_rate': '2.2'}, {'_id': 18, 'year': '2009', 'residential_status': 'overall', 'unemployment_rate': '3'}, {'_id': 19, 'year': '2010', 'residential_status': 'overall', 'unemployment_rate': '2.2'}, {'_id': 20, 'year': '2011', 'residential_status': 'overall', 'unemployment_rate': '2'}, {'_id': 21, 'year': '2012', 'residential_status': 'overall', 'unemployment_rate': '2'}, {'_id': 22, 'year': '2013', 'residential_status': 'overall', 'unemployment_rate': '1.9'}, {'_id': 23, 'year': '2014', 'residential_status': 'overall', 'unemployment_rate': '2'}, {'_id': 24, 'year': '2015', 'residential_status': 'overall', 'unemployment_rate': '1.9'}, {'_id': 25, 'year': '2016', 'residential_status': 'overall', 'unemployment_rate': '2.1'}, {'_id': 26, 'year': '2017', 'residential_status': 'overall', 'unemployment_rate': '2.2'}, {'_id': 27, 'year': '2018', 'residential_status': 'overall', 'unemployment_rate': '2.1'}, {'_id': 28, 'year': '2019', 'residential_status': 'overall', 'unemployment_rate': '2.3'}, {'_id': 29, 'year': '2020', 'residential_status': 'overall', 'unemployment_rate': '3'}, {'_id': 30, 'year': '2021', 'residential_status': 'overall', 'unemployment_rate': '2.7'}, {'_id': 31, 'year': '2022', 'residential_status': 'overall', 'unemployment_rate': '2.1'}, {'_id': 32, 'year': '2023', 'residential_status': 'overall', 'unemployment_rate': '1.9'}], '_links': {'start': '/api/action/datastore_search?resource_id=d_e3598914c86699a9a36e68190f78c59a', 'next': '/api/action/datastore_search?resource_id=d_e3598914c86699a9a36e68190f78c59a&offset=100'}, 'total': 32}}\n"
     ]
    }
   ],
   "source": [
    "dataset_id = \"d_e3598914c86699a9a36e68190f78c59a\"\n",
    "url = \"https://data.gov.sg/api/action/datastore_search?resource_id=\"  + dataset_id \n",
    "        \n",
    "response = requests.get(url)\n",
    "print(response.json())"
   ]
  },
  {
   "cell_type": "code",
   "execution_count": 3,
   "metadata": {},
   "outputs": [
    {
     "name": "stdout",
     "output_type": "stream",
     "text": [
      "(32, 4)\n"
     ]
    },
    {
     "data": {
      "text/html": [
       "<div>\n",
       "<style scoped>\n",
       "    .dataframe tbody tr th:only-of-type {\n",
       "        vertical-align: middle;\n",
       "    }\n",
       "\n",
       "    .dataframe tbody tr th {\n",
       "        vertical-align: top;\n",
       "    }\n",
       "\n",
       "    .dataframe thead th {\n",
       "        text-align: right;\n",
       "    }\n",
       "</style>\n",
       "<table border=\"1\" class=\"dataframe\">\n",
       "  <thead>\n",
       "    <tr style=\"text-align: right;\">\n",
       "      <th></th>\n",
       "      <th>_id</th>\n",
       "      <th>year</th>\n",
       "      <th>residential_status</th>\n",
       "      <th>unemployment_rate</th>\n",
       "    </tr>\n",
       "  </thead>\n",
       "  <tbody>\n",
       "    <tr>\n",
       "      <th>0</th>\n",
       "      <td>1</td>\n",
       "      <td>1992</td>\n",
       "      <td>overall</td>\n",
       "      <td>1.8</td>\n",
       "    </tr>\n",
       "    <tr>\n",
       "      <th>1</th>\n",
       "      <td>2</td>\n",
       "      <td>1993</td>\n",
       "      <td>overall</td>\n",
       "      <td>1.7</td>\n",
       "    </tr>\n",
       "    <tr>\n",
       "      <th>2</th>\n",
       "      <td>3</td>\n",
       "      <td>1994</td>\n",
       "      <td>overall</td>\n",
       "      <td>1.7</td>\n",
       "    </tr>\n",
       "    <tr>\n",
       "      <th>3</th>\n",
       "      <td>4</td>\n",
       "      <td>1995</td>\n",
       "      <td>overall</td>\n",
       "      <td>1.8</td>\n",
       "    </tr>\n",
       "    <tr>\n",
       "      <th>4</th>\n",
       "      <td>5</td>\n",
       "      <td>1996</td>\n",
       "      <td>overall</td>\n",
       "      <td>1.7</td>\n",
       "    </tr>\n",
       "  </tbody>\n",
       "</table>\n",
       "</div>"
      ],
      "text/plain": [
       "   _id  year residential_status unemployment_rate\n",
       "0    1  1992            overall               1.8\n",
       "1    2  1993            overall               1.7\n",
       "2    3  1994            overall               1.7\n",
       "3    4  1995            overall               1.8\n",
       "4    5  1996            overall               1.7"
      ]
     },
     "metadata": {},
     "output_type": "display_data"
    }
   ],
   "source": [
    "df = pd.DataFrame(response.json()['result']['records'])\n",
    "print(df.shape)\n",
    "display(df.head())"
   ]
  },
  {
   "cell_type": "code",
   "execution_count": 4,
   "metadata": {},
   "outputs": [],
   "source": [
    "df.to_csv('Data/annual_unemployment.csv', index=False)"
   ]
  }
 ],
 "metadata": {
  "kernelspec": {
   "display_name": "base",
   "language": "python",
   "name": "python3"
  },
  "language_info": {
   "codemirror_mode": {
    "name": "ipython",
    "version": 3
   },
   "file_extension": ".py",
   "mimetype": "text/x-python",
   "name": "python",
   "nbconvert_exporter": "python",
   "pygments_lexer": "ipython3",
   "version": "3.11.7"
  }
 },
 "nbformat": 4,
 "nbformat_minor": 2
}
