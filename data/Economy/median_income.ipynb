{
 "cells": [
  {
   "cell_type": "markdown",
   "metadata": {},
   "source": [
    "### Importing Required Libraries"
   ]
  },
  {
   "cell_type": "code",
   "execution_count": 1,
   "metadata": {},
   "outputs": [],
   "source": [
    "import requests\n",
    "import pandas as pd"
   ]
  },
  {
   "cell_type": "markdown",
   "metadata": {},
   "source": [
    "### Retrieving Data"
   ]
  },
  {
   "cell_type": "code",
   "execution_count": 2,
   "metadata": {},
   "outputs": [
    {
     "name": "stdout",
     "output_type": "stream",
     "text": [
      "{'help': 'https://data.gov.sg/api/3/action/help_show?name=datastore_search', 'success': True, 'result': {'resource_id': 'd_7b5fd60b047a80da91d2adb86cf47628', 'fields': [{'type': 'numeric', 'id': 'year'}, {'type': 'numeric', 'id': 'med_income_incl_empcpf'}, {'type': 'numeric', 'id': 'med_income_excl_empcpf'}, {'type': 'int4', 'id': '_id'}], 'records': [{'_id': 1, 'year': '2001', 'med_income_incl_empcpf': '2387', 'med_income_excl_empcpf': '2100'}, {'_id': 2, 'year': '2002', 'med_income_incl_empcpf': '2380', 'med_income_excl_empcpf': '2083'}, {'_id': 3, 'year': '2003', 'med_income_incl_empcpf': '2410', 'med_income_excl_empcpf': '2100'}, {'_id': 4, 'year': '2004', 'med_income_incl_empcpf': '2326', 'med_income_excl_empcpf': '2100'}, {'_id': 5, 'year': '2006', 'med_income_incl_empcpf': '2449', 'med_income_excl_empcpf': '2167'}, {'_id': 6, 'year': '2007', 'med_income_incl_empcpf': '2543', 'med_income_excl_empcpf': '2333'}, {'_id': 7, 'year': '2008', 'med_income_incl_empcpf': '2897', 'med_income_excl_empcpf': '2588'}, {'_id': 8, 'year': '2009', 'med_income_incl_empcpf': '2927', 'med_income_excl_empcpf': '2600'}, {'_id': 9, 'year': '2010', 'med_income_incl_empcpf': '3000', 'med_income_excl_empcpf': '2708'}, {'_id': 10, 'year': '2011', 'med_income_incl_empcpf': '3249', 'med_income_excl_empcpf': '2925'}, {'_id': 11, 'year': '2012', 'med_income_incl_empcpf': '3480', 'med_income_excl_empcpf': '3000'}, {'_id': 12, 'year': '2013', 'med_income_incl_empcpf': '3705', 'med_income_excl_empcpf': '3250'}, {'_id': 13, 'year': '2014', 'med_income_incl_empcpf': '3770', 'med_income_excl_empcpf': '3276'}, {'_id': 14, 'year': '2015', 'med_income_incl_empcpf': '3949', 'med_income_excl_empcpf': '3467'}, {'_id': 15, 'year': '2016', 'med_income_incl_empcpf': '4056', 'med_income_excl_empcpf': '3500'}, {'_id': 16, 'year': '2017', 'med_income_incl_empcpf': '4232', 'med_income_excl_empcpf': '3749'}, {'_id': 17, 'year': '2018', 'med_income_incl_empcpf': '4437', 'med_income_excl_empcpf': '3800'}, {'_id': 18, 'year': '2019', 'med_income_incl_empcpf': '4563', 'med_income_excl_empcpf': '4000'}, {'_id': 19, 'year': '2020', 'med_income_incl_empcpf': '4534', 'med_income_excl_empcpf': '4000'}, {'_id': 20, 'year': '2021', 'med_income_incl_empcpf': '4680', 'med_income_excl_empcpf': '4000'}, {'_id': 21, 'year': '2022', 'med_income_incl_empcpf': '5070', 'med_income_excl_empcpf': '4500'}, {'_id': 22, 'year': '2023', 'med_income_incl_empcpf': '5197', 'med_income_excl_empcpf': '4550'}], '_links': {'start': '/api/action/datastore_search?resource_id=d_7b5fd60b047a80da91d2adb86cf47628', 'next': '/api/action/datastore_search?resource_id=d_7b5fd60b047a80da91d2adb86cf47628&offset=100'}, 'total': 22}}\n"
     ]
    }
   ],
   "source": [
    "dataset_id = \"d_7b5fd60b047a80da91d2adb86cf47628\"\n",
    "url = \"https://data.gov.sg/api/action/datastore_search?resource_id=\"  + dataset_id \n",
    "        \n",
    "response = requests.get(url)\n",
    "print(response.json())"
   ]
  },
  {
   "cell_type": "markdown",
   "metadata": {},
   "source": [
    "### Converting Data from ```.json``` to Pandas Dataframe"
   ]
  },
  {
   "cell_type": "code",
   "execution_count": 3,
   "metadata": {},
   "outputs": [
    {
     "name": "stdout",
     "output_type": "stream",
     "text": [
      "(22, 4)\n"
     ]
    },
    {
     "data": {
      "text/html": [
       "<div>\n",
       "<style scoped>\n",
       "    .dataframe tbody tr th:only-of-type {\n",
       "        vertical-align: middle;\n",
       "    }\n",
       "\n",
       "    .dataframe tbody tr th {\n",
       "        vertical-align: top;\n",
       "    }\n",
       "\n",
       "    .dataframe thead th {\n",
       "        text-align: right;\n",
       "    }\n",
       "</style>\n",
       "<table border=\"1\" class=\"dataframe\">\n",
       "  <thead>\n",
       "    <tr style=\"text-align: right;\">\n",
       "      <th></th>\n",
       "      <th>_id</th>\n",
       "      <th>year</th>\n",
       "      <th>med_income_incl_empcpf</th>\n",
       "      <th>med_income_excl_empcpf</th>\n",
       "    </tr>\n",
       "  </thead>\n",
       "  <tbody>\n",
       "    <tr>\n",
       "      <th>0</th>\n",
       "      <td>1</td>\n",
       "      <td>2001</td>\n",
       "      <td>2387</td>\n",
       "      <td>2100</td>\n",
       "    </tr>\n",
       "    <tr>\n",
       "      <th>1</th>\n",
       "      <td>2</td>\n",
       "      <td>2002</td>\n",
       "      <td>2380</td>\n",
       "      <td>2083</td>\n",
       "    </tr>\n",
       "    <tr>\n",
       "      <th>2</th>\n",
       "      <td>3</td>\n",
       "      <td>2003</td>\n",
       "      <td>2410</td>\n",
       "      <td>2100</td>\n",
       "    </tr>\n",
       "    <tr>\n",
       "      <th>3</th>\n",
       "      <td>4</td>\n",
       "      <td>2004</td>\n",
       "      <td>2326</td>\n",
       "      <td>2100</td>\n",
       "    </tr>\n",
       "    <tr>\n",
       "      <th>4</th>\n",
       "      <td>5</td>\n",
       "      <td>2006</td>\n",
       "      <td>2449</td>\n",
       "      <td>2167</td>\n",
       "    </tr>\n",
       "  </tbody>\n",
       "</table>\n",
       "</div>"
      ],
      "text/plain": [
       "   _id  year med_income_incl_empcpf med_income_excl_empcpf\n",
       "0    1  2001                   2387                   2100\n",
       "1    2  2002                   2380                   2083\n",
       "2    3  2003                   2410                   2100\n",
       "3    4  2004                   2326                   2100\n",
       "4    5  2006                   2449                   2167"
      ]
     },
     "execution_count": 3,
     "metadata": {},
     "output_type": "execute_result"
    }
   ],
   "source": [
    "df = pd.DataFrame(response.json()['result']['records'])\n",
    "print(df.shape)\n",
    "df.head()"
   ]
  },
  {
   "cell_type": "markdown",
   "metadata": {},
   "source": [
    "### Converting to ```.csv``` file"
   ]
  },
  {
   "cell_type": "code",
   "execution_count": 4,
   "metadata": {},
   "outputs": [],
   "source": [
    "df.to_csv('Data/median_income.csv', index=False)"
   ]
  }
 ],
 "metadata": {
  "kernelspec": {
   "display_name": "base",
   "language": "python",
   "name": "python3"
  },
  "language_info": {
   "codemirror_mode": {
    "name": "ipython",
    "version": 3
   },
   "file_extension": ".py",
   "mimetype": "text/x-python",
   "name": "python",
   "nbconvert_exporter": "python",
   "pygments_lexer": "ipython3",
   "version": "3.11.7"
  }
 },
 "nbformat": 4,
 "nbformat_minor": 2
}
