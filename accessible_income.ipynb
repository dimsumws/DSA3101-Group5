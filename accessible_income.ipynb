{
 "cells": [
  {
   "cell_type": "markdown",
   "metadata": {},
   "source": [
    "### Importing Required Libraries"
   ]
  },
  {
   "cell_type": "code",
   "execution_count": null,
   "metadata": {},
   "outputs": [],
   "source": [
    "import requests\n",
    "import pandas as pd"
   ]
  },
  {
   "cell_type": "markdown",
   "metadata": {},
   "source": [
    "### Retrieving Data"
   ]
  },
  {
   "cell_type": "code",
   "execution_count": null,
   "metadata": {},
   "outputs": [
    {
     "name": "stdout",
     "output_type": "stream",
     "text": [
      "{'help': 'https://data.gov.sg/api/3/action/help_show?name=datastore_search', 'success': True, 'result': {'resource_id': 'd_0fb1c8d8f8e4f7733e0486837e54a0c7', 'fields': [{'type': 'text', 'id': 'year_of_assessment'}, {'type': 'text', 'id': 'no_of_indv_assessed'}, {'type': 'text', 'id': 'total_income'}, {'type': 'text', 'id': 'donations'}, {'type': 'text', 'id': 'assessable_income'}, {'type': 'int4', 'id': '_id'}], 'records': [{'_id': 1, 'year_of_assessment': '2004', 'no_of_indv_assessed': '1734218', 'total_income': '71878947', 'donations': '254217', 'assessable_income': '71624730'}, {'_id': 2, 'year_of_assessment': '2005', 'no_of_indv_assessed': '1528861', 'total_income': '71594148', 'donations': '247025', 'assessable_income': '71347123'}, {'_id': 3, 'year_of_assessment': '2006', 'no_of_indv_assessed': '1461040', 'total_income': '75480305', 'donations': '323978', 'assessable_income': '75156326'}, {'_id': 4, 'year_of_assessment': '2007', 'no_of_indv_assessed': '1522175', 'total_income': '84724808', 'donations': '282038', 'assessable_income': '84442770'}, {'_id': 5, 'year_of_assessment': '2008', 'no_of_indv_assessed': '1616707', 'total_income': '98848536', 'donations': '357352', 'assessable_income': '98491184'}, {'_id': 6, 'year_of_assessment': '2009', 'no_of_indv_assessed': '1650385', 'total_income': '106856700', 'donations': '349723', 'assessable_income': '106506977'}, {'_id': 7, 'year_of_assessment': '2010', 'no_of_indv_assessed': '1728186', 'total_income': '107768942', 'donations': '473754', 'assessable_income': '107295188'}, {'_id': 8, 'year_of_assessment': '2011', 'no_of_indv_assessed': '1829400', 'total_income': '121006829', 'donations': '586485', 'assessable_income': '120420344'}, {'_id': 9, 'year_of_assessment': '2012', 'no_of_indv_assessed': '1968605', 'total_income': '134731182', 'donations': '623831', 'assessable_income': '134107351'}, {'_id': 10, 'year_of_assessment': '2013', 'no_of_indv_assessed': '2114924', 'total_income': '144995861', 'donations': '688972', 'assessable_income': '144306888'}, {'_id': 11, 'year_of_assessment': '2014', 'no_of_indv_assessed': '2184698', 'total_income': '156483548', 'donations': '725218', 'assessable_income': '155758329'}, {'_id': 12, 'year_of_assessment': '2015', 'no_of_indv_assessed': '2280528', 'total_income': '168580385', 'donations': '816554', 'assessable_income': '167763831'}, {'_id': 13, 'year_of_assessment': '2016', 'no_of_indv_assessed': '2386718', 'total_income': '178309675', 'donations': '1172590', 'assessable_income': '177137085'}, {'_id': 14, 'year_of_assessment': '2017', 'no_of_indv_assessed': '2467000', 'total_income': '183840806', 'donations': '942717', 'assessable_income': '182898089'}, {'_id': 15, 'year_of_assessment': '2018', 'no_of_indv_assessed': '2521445', 'total_income': '190995727', 'donations': '1011963', 'assessable_income': '189983763'}, {'_id': 16, 'year_of_assessment': '2019', 'no_of_indv_assessed': '2581396', 'total_income': '200244908', 'donations': '1046857', 'assessable_income': '199198052'}, {'_id': 17, 'year_of_assessment': '2020', 'no_of_indv_assessed': '2658322', 'total_income': '208327708', 'donations': '1069912', 'assessable_income': '207257796'}, {'_id': 18, 'year_of_assessment': '2021', 'no_of_indv_assessed': '2647609', 'total_income': '210342146', 'donations': '1219252', 'assessable_income': '209122895'}, {'_id': 19, 'year_of_assessment': '2022', 'no_of_indv_assessed': '2647386', 'total_income': '229495927', 'donations': '1389674', 'assessable_income': '228106253'}, {'_id': 20, 'year_of_assessment': '2023', 'no_of_indv_assessed': '2789440', 'total_income': '250376214', 'donations': '1373614', 'assessable_income': '249002601'}], '_links': {'start': '/api/action/datastore_search?resource_id=d_0fb1c8d8f8e4f7733e0486837e54a0c7', 'next': '/api/action/datastore_search?resource_id=d_0fb1c8d8f8e4f7733e0486837e54a0c7&offset=100'}, 'total': 20}}\n"
     ]
    }
   ],
   "source": [
    "dataset_id = \"d_0fb1c8d8f8e4f7733e0486837e54a0c7\"\n",
    "url = \"https://data.gov.sg/api/action/datastore_search?resource_id=\"  + dataset_id \n",
    "        \n",
    "response = requests.get(url)\n",
    "print(response.json())"
   ]
  },
  {
   "cell_type": "markdown",
   "metadata": {},
   "source": [
    "### Converting Data from ```.json``` to Pandas Dataframe"
   ]
  },
  {
   "cell_type": "code",
   "execution_count": 8,
   "metadata": {},
   "outputs": [
    {
     "name": "stdout",
     "output_type": "stream",
     "text": [
      "(20, 6)\n"
     ]
    },
    {
     "data": {
      "text/html": [
       "<div>\n",
       "<style scoped>\n",
       "    .dataframe tbody tr th:only-of-type {\n",
       "        vertical-align: middle;\n",
       "    }\n",
       "\n",
       "    .dataframe tbody tr th {\n",
       "        vertical-align: top;\n",
       "    }\n",
       "\n",
       "    .dataframe thead th {\n",
       "        text-align: right;\n",
       "    }\n",
       "</style>\n",
       "<table border=\"1\" class=\"dataframe\">\n",
       "  <thead>\n",
       "    <tr style=\"text-align: right;\">\n",
       "      <th></th>\n",
       "      <th>_id</th>\n",
       "      <th>year_of_assessment</th>\n",
       "      <th>no_of_indv_assessed</th>\n",
       "      <th>total_income</th>\n",
       "      <th>donations</th>\n",
       "      <th>assessable_income</th>\n",
       "    </tr>\n",
       "  </thead>\n",
       "  <tbody>\n",
       "    <tr>\n",
       "      <th>0</th>\n",
       "      <td>1</td>\n",
       "      <td>2004</td>\n",
       "      <td>1734218</td>\n",
       "      <td>71878947</td>\n",
       "      <td>254217</td>\n",
       "      <td>71624730</td>\n",
       "    </tr>\n",
       "    <tr>\n",
       "      <th>1</th>\n",
       "      <td>2</td>\n",
       "      <td>2005</td>\n",
       "      <td>1528861</td>\n",
       "      <td>71594148</td>\n",
       "      <td>247025</td>\n",
       "      <td>71347123</td>\n",
       "    </tr>\n",
       "    <tr>\n",
       "      <th>2</th>\n",
       "      <td>3</td>\n",
       "      <td>2006</td>\n",
       "      <td>1461040</td>\n",
       "      <td>75480305</td>\n",
       "      <td>323978</td>\n",
       "      <td>75156326</td>\n",
       "    </tr>\n",
       "    <tr>\n",
       "      <th>3</th>\n",
       "      <td>4</td>\n",
       "      <td>2007</td>\n",
       "      <td>1522175</td>\n",
       "      <td>84724808</td>\n",
       "      <td>282038</td>\n",
       "      <td>84442770</td>\n",
       "    </tr>\n",
       "    <tr>\n",
       "      <th>4</th>\n",
       "      <td>5</td>\n",
       "      <td>2008</td>\n",
       "      <td>1616707</td>\n",
       "      <td>98848536</td>\n",
       "      <td>357352</td>\n",
       "      <td>98491184</td>\n",
       "    </tr>\n",
       "  </tbody>\n",
       "</table>\n",
       "</div>"
      ],
      "text/plain": [
       "   _id year_of_assessment no_of_indv_assessed total_income donations  \\\n",
       "0    1               2004             1734218     71878947    254217   \n",
       "1    2               2005             1528861     71594148    247025   \n",
       "2    3               2006             1461040     75480305    323978   \n",
       "3    4               2007             1522175     84724808    282038   \n",
       "4    5               2008             1616707     98848536    357352   \n",
       "\n",
       "  assessable_income  \n",
       "0          71624730  \n",
       "1          71347123  \n",
       "2          75156326  \n",
       "3          84442770  \n",
       "4          98491184  "
      ]
     },
     "execution_count": 8,
     "metadata": {},
     "output_type": "execute_result"
    }
   ],
   "source": [
    "df = pd.DataFrame(response.json()['result']['records'])\n",
    "print(df.shape)\n",
    "df.head()"
   ]
  },
  {
   "cell_type": "markdown",
   "metadata": {},
   "source": [
    "### Converting to ```.csv``` file"
   ]
  },
  {
   "cell_type": "code",
   "execution_count": null,
   "metadata": {},
   "outputs": [],
   "source": [
    "df.to_csv('Data/accessible_income.csv', index=False)"
   ]
  }
 ],
 "metadata": {
  "kernelspec": {
   "display_name": "base",
   "language": "python",
   "name": "python3"
  },
  "language_info": {
   "codemirror_mode": {
    "name": "ipython",
    "version": 3
   },
   "file_extension": ".py",
   "mimetype": "text/x-python",
   "name": "python",
   "nbconvert_exporter": "python",
   "pygments_lexer": "ipython3",
   "version": "3.11.7"
  }
 },
 "nbformat": 4,
 "nbformat_minor": 2
}
