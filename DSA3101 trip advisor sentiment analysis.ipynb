{
 "cells": [
  {
   "cell_type": "code",
   "execution_count": 1,
   "metadata": {},
   "outputs": [
    {
     "name": "stderr",
     "output_type": "stream",
     "text": [
      "[nltk_data] Downloading package wordnet to\n",
      "[nltk_data]     C:\\Users\\junka\\AppData\\Roaming\\nltk_data...\n",
      "[nltk_data]   Package wordnet is already up-to-date!\n"
     ]
    },
    {
     "data": {
      "text/plain": [
       "True"
      ]
     },
     "execution_count": 1,
     "metadata": {},
     "output_type": "execute_result"
    }
   ],
   "source": [
    "import pandas as pd\n",
    "import re\n",
    "import nltk\n",
    "from nltk.corpus import stopwords\n",
    "from nltk.stem import WordNetLemmatizer\n",
    "nltk.download('wordnet')"
   ]
  },
  {
   "cell_type": "markdown",
   "metadata": {},
   "source": [
    "The goal is to do a sentiment analysis on the reviews from Tripadvisor regrading Univeral Studios Singapore (USS), identify what guests liked and identify pain points to be potentially tackled.\n",
    "\n"
   ]
  },
  {
   "cell_type": "markdown",
   "metadata": {},
   "source": [
    "### Data Cleaning:\n",
    "\n",
    "First, we read the file and dropped some less useful columns. The columns dropped are Review Id, Display Name, User Name, User Profile, User Avatar, User Is Verified, Additional Ratings, Photos, Location Id, URL, Created Date, Published Date and Location."
   ]
  },
  {
   "cell_type": "code",
   "execution_count": 2,
   "metadata": {},
   "outputs": [],
   "source": [
    "df = pd.read_csv(\"tripadvisor_20250213222526.csv\")\n",
    "df = df.drop(columns=['Review Id', 'Display Name', 'User Name', 'User Profile',\n",
    "                      'User Avatar', 'User Is Verified','Additional Ratings', 'Photos',\n",
    "                       'Location Id', 'URL', 'Created Date', 'Published Date', 'Location'])"
   ]
  },
  {
   "cell_type": "markdown",
   "metadata": {},
   "source": [
    "We are then left with the below attributes."
   ]
  },
  {
   "cell_type": "code",
   "execution_count": 3,
   "metadata": {},
   "outputs": [
    {
     "name": "stdout",
     "output_type": "stream",
     "text": [
      "Index(['User ID', 'User Location', 'Rating', 'Review Title', 'Review Text',\n",
      "       'Helpful Votes', 'Stay Date', 'Language'],\n",
      "      dtype='object')\n"
     ]
    }
   ],
   "source": [
    "print(df.columns)"
   ]
  },
  {
   "cell_type": "markdown",
   "metadata": {},
   "source": [
    "We observed that there are reviews not in english. "
   ]
  },
  {
   "cell_type": "code",
   "execution_count": 4,
   "metadata": {},
   "outputs": [
    {
     "name": "stdout",
     "output_type": "stream",
     "text": [
      "['en' 'zhCN' 'es' 'ru' 'pl' 'fr' 'sv' 'ja' 'ko' 'da' 'in' 'it' 'nl' 'th'\n",
      " 'de' 'ar' 'pt' 'el' 'zhTW' 'tr' 'no' 'vi' 'fi' 'iw' 'sk' 'hu' 'sr' 'cs']\n"
     ]
    }
   ],
   "source": [
    "print(df[\"Language\"].unique())"
   ]
  },
  {
   "cell_type": "markdown",
   "metadata": {},
   "source": [
    "While there are existing packages that could translate these reviews to English, we have no means of verifying whether the translations would be accurate, and since we're doing sentiment analysis, where the choice of words would determine the emotional tone and attitudes expressed, we opted to remove non-English reviews.\n",
    "\n",
    "After removing non-English reviews, there are 7076 rows left"
   ]
  },
  {
   "cell_type": "code",
   "execution_count": 5,
   "metadata": {},
   "outputs": [
    {
     "name": "stdout",
     "output_type": "stream",
     "text": [
      "Index(['User ID', 'User Location', 'Rating', 'Review Title', 'Review Text',\n",
      "       'Helpful Votes', 'Stay Date'],\n",
      "      dtype='object')\n",
      "7076\n"
     ]
    }
   ],
   "source": [
    "df = df[df['Language'] == 'en']\n",
    "#drop Language col after filtering for only english reviews\n",
    "df = df.drop(columns = ['Language'])\n",
    "\n",
    "\n",
    "print(df.columns)  #Displayes the columns in the df\n",
    "print(df.shape[0])  # Displays the number of rows\n"
   ]
  },
  {
   "cell_type": "markdown",
   "metadata": {},
   "source": [
    "We observed that there are 2 Locations 'Universal Studios Singapore' and 'Universal Studios Singapore Tickets', which are used interchangeably by reviewers.\n",
    "\n",
    "In other words, reviewers who wrote down the location as 'Universal Studios Singapore Tickets' are also talking about the park as a whole as opposed to just talking about the ticketing system. \n",
    "\n",
    "Therefore, the attribute 'Location' will be dropped as well. This is done above with the other dropped attributes for the sake of neatness."
   ]
  },
  {
   "cell_type": "code",
   "execution_count": 6,
   "metadata": {},
   "outputs": [
    {
     "data": {
      "text/plain": [
       "' \\n\\nprint(df[\"Location\"].unique())\\ncount = df[df[\\'Location\\'] == \\'Universal Studios Singapore Tickets\\'].shape[0]\\nprint(count)\\ncount2 = df[df[\\'Location\\'] == \\'Universal Studios Singapore\\'].shape[0]\\nprint(count2)\\n\\npd.set_option(\\'display.max_colwidth\\', None)  # Set to None to show full text without truncation\\n\\nfiltered_reviews = df[df[\\'Location\\'] == \\'Universal Studios Singapore Tickets\\'][\\'Review Title\\']\\nprint(filtered_reviews)\\n\\n'"
      ]
     },
     "execution_count": 6,
     "metadata": {},
     "output_type": "execute_result"
    }
   ],
   "source": [
    "''' \n",
    "\n",
    "print(df[\"Location\"].unique())\n",
    "count = df[df['Location'] == 'Universal Studios Singapore Tickets'].shape[0]\n",
    "print(count)\n",
    "count2 = df[df['Location'] == 'Universal Studios Singapore'].shape[0]\n",
    "print(count2)\n",
    "\n",
    "pd.set_option('display.max_colwidth', None)  # Set to None to show full text without truncation\n",
    "\n",
    "filtered_reviews = df[df['Location'] == 'Universal Studios Singapore Tickets']['Review Title']\n",
    "print(filtered_reviews)\n",
    "\n",
    "'''\n"
   ]
  },
  {
   "cell_type": "markdown",
   "metadata": {},
   "source": [
    "The column 'User Location' has 1654 missing values, we might want to consider removing these too, especially if we're not doing a demographic by location analysis."
   ]
  },
  {
   "cell_type": "code",
   "execution_count": 7,
   "metadata": {},
   "outputs": [
    {
     "name": "stdout",
     "output_type": "stream",
     "text": [
      "User ID             0\n",
      "User Location    1654\n",
      "Rating              0\n",
      "Review Title        0\n",
      "Review Text         0\n",
      "Helpful Votes       0\n",
      "Stay Date           0\n",
      "dtype: int64\n"
     ]
    }
   ],
   "source": [
    "print(df.isnull().sum())  # Check for missing values in each column\n",
    "# Print the data types of each column\n"
   ]
  },
  {
   "cell_type": "markdown",
   "metadata": {},
   "source": [
    "Converting to the right data types\n"
   ]
  },
  {
   "cell_type": "code",
   "execution_count": 8,
   "metadata": {},
   "outputs": [
    {
     "name": "stdout",
     "output_type": "stream",
     "text": [
      "User ID          object\n",
      "User Location    object\n",
      "Rating            int64\n",
      "Review Title     object\n",
      "Review Text      object\n",
      "Helpful Votes     int64\n",
      "Stay Date        object\n",
      "dtype: object\n"
     ]
    }
   ],
   "source": [
    "print(df.dtypes)\n",
    "\n",
    "#Convert 'Stay Date' to a date type variable\n",
    "df['Stay Date'] = pd.to_datetime(df['Stay Date'], errors='coerce')\n",
    "\n"
   ]
  },
  {
   "cell_type": "markdown",
   "metadata": {},
   "source": [
    "### Data preprocessing (Text preprocessing):\n",
    "\n",
    "The goal is to clean and standardise textual data for analysis. We applied the following techniques to the attributes Review Title and Review Text.\n",
    "\n",
    "1. Remove special characters, numbers, and extra spaces.\n",
    "    - This eliminates unnecessary noise from things like punctuation, symbols, and redundant whitespace. This helps to standardize text for ML models.\n",
    "\n",
    "2. Convert text to lowercase.\n",
    "    - Ensures consistency by eliminating case sensitivity and preventing the duplication of words due to different capitalizations. This helps match texts and reduces vocabulary size.\n",
    "\n",
    "\n",
    "3. Tokenization and removing stopwords.\n",
    "    - Removing stop words like \"the\", \"is\", \"and\", etc. that don’t add much meaning. This is to reduce text size once again.\n",
    "\n",
    "4. Lemmatization.\n",
    "    - Converts words to their base form to normalize the variations of the same word. This reduces vocabulary size and improves model generalisation. \n"
   ]
  },
  {
   "cell_type": "code",
   "execution_count": 9,
   "metadata": {},
   "outputs": [],
   "source": [
    "stop_words = set(stopwords.words('english'))\n",
    "lemmatizer = WordNetLemmatizer()\n",
    "\n",
    "def clean_text(text):\n",
    "    \"\"\"Lowercase, remove special characters, and extra spaces.\"\"\"\n",
    "    text = text.lower().strip()\n",
    "    text = re.sub(r'[^a-z0-9\\s]', '', text) # Keep only alphanumeric characters\n",
    "    text = re.sub(r'\\s+', ' ', text).strip() # Remove extra spaces\n",
    "    words = text.split()\n",
    "    words = [lemmatizer.lemmatize(word) for word in words if word not in stop_words] # Remove stopwords + Lemmatization\n",
    "    return ' '.join(words)\n",
    "\n",
    "df['Clean Review Title'] = df['Review Title'].apply(clean_text)\n",
    "df['Clean Review Text'] = df['Review Text'].apply(clean_text)"
   ]
  },
  {
   "cell_type": "markdown",
   "metadata": {},
   "source": [
    "Finally, we can preview the dataset below"
   ]
  },
  {
   "cell_type": "code",
   "execution_count": 10,
   "metadata": {},
   "outputs": [
    {
     "name": "stdout",
     "output_type": "stream",
     "text": [
      "                            User ID  User Location  Rating  \\\n",
      "0  2165A55827C624A5FA8BA42A63DA343C  United States       3   \n",
      "1  87364D4E6E971222E18CB6C485C9209E            NaN       5   \n",
      "2  DC02DAA61A0CD9DC77B4C83FC2A79A09      Edinburgh       4   \n",
      "3  3E7A5D8CEA2FB93CCB415499204B9E77            NaN       1   \n",
      "4  C9CC6FD8B4C7A6EC72E0088AF811CA82         Sydney       4   \n",
      "\n",
      "                    Review Title  \\\n",
      "0                      It’s okay   \n",
      "1  Great Staff, Great Experience   \n",
      "2    Great day out, pretty small   \n",
      "3                      Pointless   \n",
      "4                        Fun day   \n",
      "\n",
      "                                         Review Text  Helpful Votes  \\\n",
      "0  This was relatively small, ~24 rides(?), lines...              0   \n",
      "1  Staff at Universal and RWS were so lovely and ...              0   \n",
      "2  Great day out, with plenty of shade and seats ...              0   \n",
      "3  Pointless place.\\nWait times are over 60 mins ...              0   \n",
      "4  Not as good as Universal in LA. \\n\\nHighly rec...              2   \n",
      "\n",
      "   Stay Date            Clean Review Title  \\\n",
      "0 2025-02-28                          okay   \n",
      "1 2025-02-28  great staff great experience   \n",
      "2 2024-03-31        great day pretty small   \n",
      "3 2025-01-31                     pointless   \n",
      "4 2025-01-31                       fun day   \n",
      "\n",
      "                                   Clean Review Text  \n",
      "0  relatively small 24 ride line super long expec...  \n",
      "1  staff universal rws lovely helpful lynn pus bo...  \n",
      "2  great day plenty shade seat get hot also plent...  \n",
      "3  pointless place wait time 60 min ride difficul...  \n",
      "4  good universal la highly recommend spending ex...  \n"
     ]
    }
   ],
   "source": [
    "print(df.head())"
   ]
  },
  {
   "cell_type": "markdown",
   "metadata": {},
   "source": [
    "### Exploratory Data Analysis"
   ]
  },
  {
   "cell_type": "markdown",
   "metadata": {},
   "source": [
    "Looking at the distribution of the guests' ratings, we get a preliminary idea of how the overall experience is perceived. We can see from the bar chart that the vast majority of guests rated their experience at least a 4 out of 5. We can then expect that sentiment analysis will also reveal to be largely positive.  "
   ]
  },
  {
   "cell_type": "code",
   "execution_count": 11,
   "metadata": {},
   "outputs": [
    {
     "name": "stderr",
     "output_type": "stream",
     "text": [
      "C:\\Users\\junka\\AppData\\Local\\Temp\\ipykernel_17060\\1184892035.py:9: FutureWarning: \n",
      "\n",
      "Passing `palette` without assigning `hue` is deprecated and will be removed in v0.14.0. Assign the `x` variable to `hue` and set `legend=False` for the same effect.\n",
      "\n",
      "  sns.barplot(x=rating_counts.index, y=rating_counts.values, palette='viridis')\n"
     ]
    },
    {
     "data": {
      "image/png": "[encoded data removed]",
      "text/plain": [
       "<Figure size 800x600 with 1 Axes>"
      ]
     },
     "metadata": {},
     "output_type": "display_data"
    }
   ],
   "source": [
    "import matplotlib.pyplot as plt\n",
    "import seaborn as sns\n",
    "\n",
    "# Count the occurrences of each rating\n",
    "rating_counts = df['Rating'].value_counts().sort_index()\n",
    "\n",
    "# Create the bar plot\n",
    "plt.figure(figsize=(8, 6))\n",
    "sns.barplot(x=rating_counts.index, y=rating_counts.values, palette='viridis')\n",
    "\n",
    "# Adding labels and title\n",
    "plt.title('Distribution of Ratings', fontsize=16)\n",
    "plt.xlabel('Rating', fontsize=12)\n",
    "plt.ylabel('Number of Reviews', fontsize=12)\n",
    "plt.xticks(rotation=45)\n",
    "\n",
    "# Show the plot\n",
    "plt.show()\n"
   ]
  },
  {
   "cell_type": "markdown",
   "metadata": {},
   "source": [
    "## Sentiment Analysis\n",
    "\n",
    "### VADER \n",
    "We used VADER (Valence Aware Dictionary and Sentiment Reasoner) to perform the sentiment analysis. VADER is a vocabulary and rule-based feeling analysis instrument that was designed to be sensitive towards the way people communicate in web-based media. \n",
    "\n",
    "Every word in the vocabulary is appraised more positive words will have a higher positive evaluation and more negative words will have a more negative score.\n",
    "\n",
    "Using this on our dataset, the reviews would be scored between -1 to 1 and categorized into the following categories:\n",
    "- positive (score > 0.05) \n",
    "- neutral (-0.05 < score < 0.05)\n",
    "- negative (score < -0.05)\n",
    "\n",
    "### Reasoning\n",
    "Why do sentiment analysis when we already have a Rating column?\n",
    "- To better capture emotional tone. For example, a high rating (eg 4 stars) may not mean the review is fully positive. Doing sentiment analysis will help detect nuanced opinions.\n",
    "- To better handle Rating inconsistencies. Users might also perceive ratings differently from one another which makes the Rating attribute potentially inconsistent.\n",
    "\n",
    "\n"
   ]
  },
  {
   "cell_type": "code",
   "execution_count": 12,
   "metadata": {},
   "outputs": [
    {
     "data": {
      "text/plain": [
       "Sentiment_Label\n",
       "positive    6383\n",
       "negative     566\n",
       "neutral      127\n",
       "Name: count, dtype: int64"
      ]
     },
     "execution_count": 12,
     "metadata": {},
     "output_type": "execute_result"
    }
   ],
   "source": [
    "import nltk\n",
    "#nltk.download('vader_lexicon')\n",
    "\n",
    "from nltk.sentiment.vader import SentimentIntensityAnalyzer\n",
    "sid = SentimentIntensityAnalyzer()\n",
    "\n",
    "\n",
    "def get_sentiment(text):\n",
    "    sentiment = sid.polarity_scores(text)\n",
    "    return sentiment['compound']  # The compound score indicates overall sentiment\n",
    "\n",
    "df['Sentiment'] = df['Clean Review Text'].apply(get_sentiment)\n",
    "df['Sentiment_Label'] = df['Sentiment'].apply(lambda x: 'positive' if x > 0.05 else ('negative' if x < -0.05 else 'neutral'))\n",
    "df['Sentiment_Label'].value_counts()\n",
    "\n"
   ]
  },
  {
   "cell_type": "markdown",
   "metadata": {},
   "source": [
    "Just as we suspected, the reviews are largely positive.\n",
    " "
   ]
  },
  {
   "cell_type": "code",
   "execution_count": 13,
   "metadata": {},
   "outputs": [
    {
     "name": "stderr",
     "output_type": "stream",
     "text": [
      "C:\\Users\\junka\\AppData\\Local\\Temp\\ipykernel_17060\\3616727118.py:5: FutureWarning: \n",
      "\n",
      "Passing `palette` without assigning `hue` is deprecated and will be removed in v0.14.0. Assign the `x` variable to `hue` and set `legend=False` for the same effect.\n",
      "\n",
      "  sns.countplot(x='Sentiment_Label', data=df, palette='viridis')\n"
     ]
    },
    {
     "data": {
      "image/png": "[encoded data removed]",
      "text/plain": [
       "<Figure size 640x480 with 1 Axes>"
      ]
     },
     "metadata": {},
     "output_type": "display_data"
    }
   ],
   "source": [
    "import matplotlib.pyplot as plt\n",
    "import seaborn as sns\n",
    "\n",
    "# Plot sentiment distribution\n",
    "sns.countplot(x='Sentiment_Label', data=df, palette='viridis')\n",
    "plt.title('Distribution of Review Sentiments')\n",
    "plt.xlabel('Sentiment')\n",
    "plt.ylabel('Number of Reviews')\n",
    "plt.show()\n"
   ]
  },
  {
   "cell_type": "markdown",
   "metadata": {},
   "source": [
    "## Bigram Anaylsis\n",
    "\n",
    "To better identify key themes in positive and negative feedback, we analyze common word pairs (bigrams) in positive and negative reviews to identify key phrases associated with sentiment. Here we extracted the top 20 for both positive and negative reviews. This will provide insights into common praises and common complaints of USS.\n",
    "\n",
    "### Positive reviews:\n",
    "\n",
    "The phrase \"express pass\" stands out prominently, suggesting that positive experiences are closely tied to a premium experience—specifically, the ability to skip lines by purchasing the Express Pass.\n",
    "\n",
    "Additionally, phrases like \"waiting time\" indicate that guests prioritize a reasonable queuing experience, implying that the efficiency of wait times plays a significant role in their overall satisfaction.\n",
    "\n",
    "Finally, the frequent mention of specific ride names highlights that the attractions themselves are key highlights of the visit, suggesting that customers value the quality and experience of the rides.\n",
    "\n",
    "\n",
    "### Negative reviews:\n",
    "\n",
    "\"Express pass\" appears frequently in negative reviews, suggesting that the service did not meet customer expectations. This likely reflects situations where guests felt the Express Pass did not significantly reduce wait times as anticipated. Additionally, given the higher cost of these passes, customers may have had high expectations for the service, only to be disappointed by the actual experience. This is further corroborated by the presence of phrases like \"waiting time\" and \"waste of money\", which indicate frustration with the perceived value. This underscores the importance of the queuing experience in determining overall customer satisfaction."
   ]
  },
  {
   "cell_type": "code",
   "execution_count": 14,
   "metadata": {},
   "outputs": [
    {
     "name": "stdout",
     "output_type": "stream",
     "text": [
      "Top 20 Positive Bigrams:\n",
      "                      Bigram  Count\n",
      "142357      universal studio   2244\n",
      "46735            express pas   1450\n",
      "113076        roller coaster   1044\n",
      "133031            theme park    967\n",
      "139445      transformer ride    745\n",
      "69054          jurassic park    732\n",
      "147012          waiting time    611\n",
      "146635             wait time    491\n",
      "129246      studio singapore    462\n",
      "46800         express ticket    429\n",
      "75824             long queue    423\n",
      "85540             mummy ride    366\n",
      "16008   battlestar galactica    358\n",
      "58885              great day    327\n",
      "151535             whole day    321\n",
      "154475              year old    316\n",
      "48638               fast pas    310\n",
      "20664            buy express    300\n",
      "85944             must visit    291\n",
      "110137         revenge mummy    286\n",
      "\n",
      "Top 20 Negative Bigrams:\n",
      "                  Bigram  Count\n",
      "142357  universal studio    161\n",
      "46735        express pas    135\n",
      "147012      waiting time     77\n",
      "133031        theme park     77\n",
      "146635         wait time     69\n",
      "46800     express ticket     51\n",
      "129246  studio singapore     49\n",
      "139445  transformer ride     49\n",
      "75824         long queue     46\n",
      "113076    roller coaster     43\n",
      "69054      jurassic park     37\n",
      "110137     revenge mummy     37\n",
      "46736       express pass     31\n",
      "20664        buy express     30\n",
      "110772       ride closed     28\n",
      "148035        waste time     28\n",
      "148027       waste money     28\n",
      "104957        queue ride     24\n",
      "154475          year old     24\n",
      "79624          many ride     24\n"
     ]
    }
   ],
   "source": [
    "\n",
    "from sklearn.feature_extraction.text import CountVectorizer\n",
    "\n",
    "# Create bigrams (or trigrams)\n",
    "vectorizer = CountVectorizer(ngram_range=(2, 2))  # (2, 2) for bigrams, change to (3, 3) for trigrams\n",
    "positive_reviews = df[df['Sentiment_Label'] == 'positive']['Clean Review Text']\n",
    "negative_reviews = df[df['Sentiment_Label'] == 'negative']['Clean Review Text']\n",
    "\n",
    "# Create the term-document matrix for positive and negative reviews\n",
    "positive_ngrams = vectorizer.fit_transform(positive_reviews)\n",
    "negative_ngrams = vectorizer.transform(negative_reviews)\n",
    "\n",
    "# Get the sum of each bigram\n",
    "positive_ngrams_sum = positive_ngrams.sum(axis=0).A1\n",
    "negative_ngrams_sum = negative_ngrams.sum(axis=0).A1\n",
    "\n",
    "# Get the feature names (bigrams)\n",
    "positive_ngrams_words = vectorizer.get_feature_names_out()\n",
    "negative_ngrams_words = vectorizer.get_feature_names_out()\n",
    "\n",
    "# Create DataFrames to view the bigrams and their counts\n",
    "positive_bigrams = pd.DataFrame(list(zip(positive_ngrams_words, positive_ngrams_sum)), columns=[\"Bigram\", \"Count\"])\n",
    "negative_bigrams = pd.DataFrame(list(zip(negative_ngrams_words, negative_ngrams_sum)), columns=[\"Bigram\", \"Count\"])\n",
    "\n",
    "# Sort by frequency\n",
    "positive_bigrams = positive_bigrams.sort_values(by=\"Count\", ascending=False).head(20)\n",
    "negative_bigrams = negative_bigrams.sort_values(by=\"Count\", ascending=False).head(20)\n",
    "\n",
    "print(\"Top 20 Positive Bigrams:\")\n",
    "print(positive_bigrams)\n",
    "\n",
    "print(\"\\nTop 20 Negative Bigrams:\")\n",
    "print(negative_bigrams)\n"
   ]
  }
 ],
 "metadata": {
  "kernelspec": {
   "display_name": "Python 3",
   "language": "python",
   "name": "python3"
  },
  "language_info": {
   "codemirror_mode": {
    "name": "ipython",
    "version": 3
   },
   "file_extension": ".py",
   "mimetype": "text/x-python",
   "name": "python",
   "nbconvert_exporter": "python",
   "pygments_lexer": "ipython3",
   "version": "3.12.5"
  }
 },
 "nbformat": 4,
 "nbformat_minor": 2
}
