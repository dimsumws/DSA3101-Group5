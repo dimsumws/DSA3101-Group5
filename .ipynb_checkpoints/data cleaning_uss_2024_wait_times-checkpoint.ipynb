{
 "cells": [
  {
   "cell_type": "raw",
   "id": "181b2b64-0fbd-4924-a1f2-fe62dbea0391",
   "metadata": {},
   "source": [
    "Libraries"
   ]
  },
  {
   "cell_type": "code",
   "execution_count": 1,
   "id": "bd560834-f603-4e07-9201-53d5ad984639",
   "metadata": {},
   "outputs": [],
   "source": [
    "import pandas as pd"
   ]
  },
  {
   "cell_type": "raw",
   "id": "26edd085-1ded-4c67-8f71-d88b24cbfb41",
   "metadata": {},
   "source": [
    "Step 1: Read CSV and check for missing values"
   ]
  },
  {
   "cell_type": "code",
   "execution_count": 2,
   "id": "988abea9-ddbd-4cdd-b03b-0ccb30b700bc",
   "metadata": {},
   "outputs": [
    {
     "name": "stdout",
     "output_type": "stream",
     "text": [
      "Missing Values Before Cleaning:\n",
      " Park         0\n",
      "Date/Time    0\n",
      "Wait Time    0\n",
      "dtype: int64\n"
     ]
    }
   ],
   "source": [
    "df = pd.read_csv(\"combined_2024_wait_times.csv\")\n",
    "print(\"Missing Values Before Cleaning:\\n\",df.isnull().sum())"
   ]
  },
  {
   "cell_type": "raw",
   "id": "b0aa54ea-3d18-4643-9b9c-f10e9d4228e2",
   "metadata": {},
   "source": [
    "Step 2: Reformat Data"
   ]
  },
  {
   "cell_type": "code",
   "execution_count": 5,
   "id": "c7bf2c73-da62-4850-acae-7068ff4ed1c3",
   "metadata": {},
   "outputs": [],
   "source": [
    "df['Date/Time'] = pd.to_datetime(df['Date/Time'], errors='coerce')\n",
    "df['date'] = df['Date/Time'].dt.date # Extract date (YYYY-MM-DD)\n",
    "df['time'] = df['Date/Time'].dt.time # Extract time (HH:MM:SS)\n",
    "df.drop(columns=['Date/Time'], inplace=True)\n",
    "df.columns = df.columns.str.strip().str.lower().str.replace(\" \", \"_\")\n",
    "df['wait_time'] = pd.to_numeric(df['wait_time'], errors='coerce')\n",
    "df['wait_time'] = df['wait_time'].astype(int)"
   ]
  },
  {
   "cell_type": "raw",
   "id": "7951eb88-3cc9-4f88-9119-396d4b3ab151",
   "metadata": {},
   "source": [
    "Step 3: Sort Data according to date and time"
   ]
  },
  {
   "cell_type": "code",
   "execution_count": 9,
   "id": "13890c4f-94eb-4d3a-af6e-8d6826416b56",
   "metadata": {},
   "outputs": [
    {
     "name": "stdout",
     "output_type": "stream",
     "text": [
      "<class 'pandas.core.frame.DataFrame'>\n",
      "RangeIndex: 31517 entries, 0 to 31516\n",
      "Data columns (total 4 columns):\n",
      " #   Column     Non-Null Count  Dtype \n",
      "---  ------     --------------  ----- \n",
      " 0   park       31517 non-null  object\n",
      " 1   wait_time  31517 non-null  int32 \n",
      " 2   date       31517 non-null  object\n",
      " 3   time       31517 non-null  object\n",
      "dtypes: int32(1), object(3)\n",
      "memory usage: 861.9+ KB\n",
      "None\n",
      "                          park  wait_time        date      time\n",
      "0  Universal Studios Singapore          7  2024-01-01  10:00:00\n",
      "1  Universal Studios Singapore          7  2024-01-01  10:05:00\n",
      "2  Universal Studios Singapore          7  2024-01-01  10:10:00\n",
      "3  Universal Studios Singapore          7  2024-01-01  10:15:00\n",
      "4  Universal Studios Singapore          7  2024-01-01  10:20:00\n"
     ]
    }
   ],
   "source": [
    "df = df.sort_values(by=['date', 'time'], ascending=True).reset_index(drop=True)\n",
    "print(df.info())\n",
    "print(df.head())"
   ]
  },
  {
   "cell_type": "raw",
   "id": "417fce9c-4a6c-4961-b58c-8eb95956006b",
   "metadata": {},
   "source": [
    "Step 4: Save new CSV file"
   ]
  },
  {
   "cell_type": "code",
   "execution_count": 11,
   "id": "a079dc56-dbc4-4da4-b5ce-9536ece25bc9",
   "metadata": {},
   "outputs": [],
   "source": [
    "df.to_csv(\"cleaned_2024_wait_times.csv\", index=False)"
   ]
  }
 ],
 "metadata": {
  "kernelspec": {
   "display_name": "Python [conda env:base] *",
   "language": "python",
   "name": "conda-base-py"
  },
  "language_info": {
   "codemirror_mode": {
    "name": "ipython",
    "version": 3
   },
   "file_extension": ".py",
   "mimetype": "text/x-python",
   "name": "python",
   "nbconvert_exporter": "python",
   "pygments_lexer": "ipython3",
   "version": "3.12.7"
  }
 },
 "nbformat": 4,
 "nbformat_minor": 5
}
