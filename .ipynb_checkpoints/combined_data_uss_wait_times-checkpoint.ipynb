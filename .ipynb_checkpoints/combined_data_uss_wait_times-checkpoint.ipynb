{
 "cells": [
  {
   "cell_type": "raw",
   "id": "93dffe8e-92d8-44a4-9fdb-a304f42966a1",
   "metadata": {},
   "source": [
    "Libraries"
   ]
  },
  {
   "cell_type": "code",
   "execution_count": 1,
   "id": "c6a75f50-baed-4296-ac41-819228ae2855",
   "metadata": {},
   "outputs": [],
   "source": [
    "import pandas as pd\n",
    "import glob\n",
    "import os"
   ]
  },
  {
   "cell_type": "raw",
   "id": "152c1c8e-6ad4-43e9-9a44-3c1da7b438d1",
   "metadata": {},
   "source": [
    "Step 1: Set Relative Path"
   ]
  },
  {
   "cell_type": "code",
   "execution_count": 4,
   "id": "cc71c3c5-59b2-4e35-9512-6ddd16064f42",
   "metadata": {},
   "outputs": [],
   "source": [
    "folder_path = os.path.join(os.getcwd(), \"datasets\")\n",
    "file_paths =  glob.glob(os.path.join(folder_path, \"*.csv\"))"
   ]
  },
  {
   "cell_type": "raw",
   "id": "0c718d5d-5659-473b-930d-9a1ab958f909",
   "metadata": {},
   "source": [
    "Step 2: Load, process, and filter each dataset"
   ]
  },
  {
   "cell_type": "code",
   "execution_count": 6,
   "id": "91b5c1e9-045d-4cf1-9d04-d568a23d10b0",
   "metadata": {},
   "outputs": [],
   "source": [
    "dataframes = []\n",
    "\n",
    "for file in file_paths:\n",
    "    df = pd.read_csv(file)\n",
    "    df['Date/Time'] = pd.to_datetime(df['Date/Time'], errors='coerce') # Convert 'Date/Time' to datetime format\n",
    "    df_2024 = df[df['Date/Time'].dt.year == 2024] # Filter for 2024 data only\n",
    "    dataframes.append(df_2024)"
   ]
  },
  {
   "cell_type": "raw",
   "id": "9e5a44d3-17fc-44de-8b0a-ea9005f009f9",
   "metadata": {},
   "source": [
    "Step 3: Combine all filtered DataFrames"
   ]
  },
  {
   "cell_type": "code",
   "execution_count": 8,
   "id": "b3701302-e9f6-4a17-a7da-ff7f83b59de1",
   "metadata": {},
   "outputs": [],
   "source": [
    "full_dataset = pd.concat(dataframes, ignore_index=True)"
   ]
  },
  {
   "cell_type": "raw",
   "id": "28a82d69-de7b-4042-8574-4d931a91a336",
   "metadata": {},
   "source": [
    "Step 4: Save the final combined dataset in the same directory"
   ]
  },
  {
   "cell_type": "code",
   "execution_count": 10,
   "id": "75ac94c6-1642-4200-811b-da0a4c3a1b96",
   "metadata": {},
   "outputs": [],
   "source": [
    "output_path = os.path.join(os.getcwd(), \"combined_2024_wait_times.csv\")\n",
    "full_dataset.to_csv(output_path, index=False)"
   ]
  },
  {
   "cell_type": "raw",
   "id": "b6dd9db8-c67b-4d36-af32-f5290ff7f555",
   "metadata": {},
   "source": [
    "Display Summary"
   ]
  },
  {
   "cell_type": "code",
   "execution_count": 12,
   "id": "c6dc44c7-778c-47e3-be36-d1a60050c7e5",
   "metadata": {},
   "outputs": [
    {
     "name": "stdout",
     "output_type": "stream",
     "text": [
      "Combined dataset saved at: C:\\Users\\miko2\\USS Waiting Time Data\\combined_2024_wait_times.csv\n",
      "Shape: (31517, 3)\n",
      "                          Park           Date/Time  Wait Time\n",
      "0  Universal Studios Singapore 2024-04-01 10:00:00          8\n",
      "1  Universal Studios Singapore 2024-04-01 10:05:00          9\n",
      "2  Universal Studios Singapore 2024-04-01 10:10:00          9\n",
      "3  Universal Studios Singapore 2024-04-01 10:15:00         10\n",
      "4  Universal Studios Singapore 2024-04-01 10:20:00         11\n"
     ]
    }
   ],
   "source": [
    "print(f\"Combined dataset saved at: {output_path}\")\n",
    "print(f\"Shape: {full_dataset.shape}\")\n",
    "print(full_dataset.head())"
   ]
  }
 ],
 "metadata": {
  "kernelspec": {
   "display_name": "Python [conda env:base] *",
   "language": "python",
   "name": "conda-base-py"
  },
  "language_info": {
   "codemirror_mode": {
    "name": "ipython",
    "version": 3
   },
   "file_extension": ".py",
   "mimetype": "text/x-python",
   "name": "python",
   "nbconvert_exporter": "python",
   "pygments_lexer": "ipython3",
   "version": "3.12.7"
  }
 },
 "nbformat": 4,
 "nbformat_minor": 5
}
