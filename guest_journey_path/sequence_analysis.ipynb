{
 "cells": [
  {
   "cell_type": "markdown",
   "metadata": {},
   "source": [
    "### data preparation"
   ]
  },
  {
   "cell_type": "markdown",
   "metadata": {},
   "source": [
    "#### read files"
   ]
  },
  {
   "cell_type": "code",
   "execution_count": 1,
   "metadata": {},
   "outputs": [],
   "source": [
    "import pandas as pd\n",
    "\n",
    "df = pd.read_csv('../data/survey_responses/cleaned_survey_responses.csv')\n",
    "\n",
    "# subset required data\n",
    "path_matrix = df[['hollywood', 'minion_land', 'far_far_away', 'lost_world', 'ancient_egypt', 'scifi_city', 'new_york']]\n",
    "path_matrix = path_matrix[path_matrix.any(axis='columns')] #(33, 7)"
   ]
  },
  {
   "cell_type": "markdown",
   "metadata": {},
   "source": [
    "#### data prep\n",
    "all data required for analysis from this point will only refrerence target_entries"
   ]
  },
  {
   "cell_type": "code",
   "execution_count": 2,
   "metadata": {},
   "outputs": [
    {
     "name": "stdout",
     "output_type": "stream",
     "text": [
      "(33, 47)\n"
     ]
    },
    {
     "data": {
      "application/vnd.microsoft.datawrangler.viewer.v0+json": {
       "columns": [
        {
         "name": "index",
         "rawType": "int64",
         "type": "integer"
        },
        {
         "name": "response_id",
         "rawType": "int64",
         "type": "integer"
        },
        {
         "name": "timestamp",
         "rawType": "object",
         "type": "string"
        },
        {
         "name": "visited_US",
         "rawType": "bool",
         "type": "boolean"
        },
        {
         "name": "visit_freq",
         "rawType": "object",
         "type": "string"
        },
        {
         "name": "age",
         "rawType": "object",
         "type": "string"
        },
        {
         "name": "gender",
         "rawType": "object",
         "type": "string"
        },
        {
         "name": "monthly_income",
         "rawType": "object",
         "type": "string"
        },
        {
         "name": "nationality",
         "rawType": "object",
         "type": "string"
        },
        {
         "name": "companion",
         "rawType": "object",
         "type": "string"
        },
        {
         "name": "ride_pref",
         "rawType": "object",
         "type": "string"
        },
        {
         "name": "time_in_park",
         "rawType": "object",
         "type": "string"
        },
        {
         "name": "visit_day",
         "rawType": "object",
         "type": "string"
        },
        {
         "name": "visit_reason",
         "rawType": "object",
         "type": "string"
        },
        {
         "name": "mkting_content_seen",
         "rawType": "object",
         "type": "string"
        },
        {
         "name": "mkting_content_pref",
         "rawType": "object",
         "type": "string"
        },
        {
         "name": "get_ticket",
         "rawType": "int64",
         "type": "integer"
        },
        {
         "name": "fee_pricing",
         "rawType": "int64",
         "type": "integer"
        },
        {
         "name": "queuing",
         "rawType": "int64",
         "type": "integer"
        },
        {
         "name": "fast_pass_worth",
         "rawType": "int64",
         "type": "integer"
        },
        {
         "name": "cleanliness",
         "rawType": "int64",
         "type": "integer"
        },
        {
         "name": "facilities",
         "rawType": "int64",
         "type": "integer"
        },
        {
         "name": "navigation",
         "rawType": "int64",
         "type": "integer"
        },
        {
         "name": "rides",
         "rawType": "int64",
         "type": "integer"
        },
        {
         "name": "theme",
         "rawType": "int64",
         "type": "integer"
        },
        {
         "name": "relavamce",
         "rawType": "int64",
         "type": "integer"
        },
        {
         "name": "staffing",
         "rawType": "int64",
         "type": "integer"
        },
        {
         "name": "friendliness",
         "rawType": "int64",
         "type": "integer"
        },
        {
         "name": "return_likelihood",
         "rawType": "int64",
         "type": "integer"
        },
        {
         "name": "concern_malfucntion",
         "rawType": "int64",
         "type": "integer"
        },
        {
         "name": "concern_violence",
         "rawType": "int64",
         "type": "integer"
        },
        {
         "name": "concern_crowd_crush",
         "rawType": "int64",
         "type": "integer"
        },
        {
         "name": "concern_theft",
         "rawType": "int64",
         "type": "integer"
        },
        {
         "name": "concern_getting_lost",
         "rawType": "int64",
         "type": "integer"
        },
        {
         "name": "concern_medical_access",
         "rawType": "int64",
         "type": "integer"
        },
        {
         "name": "concern_weather",
         "rawType": "int64",
         "type": "integer"
        },
        {
         "name": "concern_food_safety",
         "rawType": "int64",
         "type": "integer"
        },
        {
         "name": "visit_deterrents",
         "rawType": "object",
         "type": "string"
        },
        {
         "name": "attraction_decision",
         "rawType": "object",
         "type": "string"
        },
        {
         "name": "top_expense",
         "rawType": "object",
         "type": "string"
        },
        {
         "name": "hollywood",
         "rawType": "float64",
         "type": "float"
        },
        {
         "name": "minion_land",
         "rawType": "float64",
         "type": "float"
        },
        {
         "name": "far_far_away",
         "rawType": "float64",
         "type": "float"
        },
        {
         "name": "lost_world",
         "rawType": "float64",
         "type": "float"
        },
        {
         "name": "ancient_egypt",
         "rawType": "float64",
         "type": "float"
        },
        {
         "name": "scifi_city",
         "rawType": "float64",
         "type": "float"
        },
        {
         "name": "new_york",
         "rawType": "float64",
         "type": "float"
        },
        {
         "name": "sequences",
         "rawType": "object",
         "type": "unknown"
        }
       ],
       "conversionMethod": "pd.DataFrame",
       "ref": "865fd1a7-7e88-4428-9beb-a96f08c9470e",
       "rows": [
        [
         "93",
         "93",
         "22/02/2025 12:23:46",
         "True",
         "When on vacation",
         "19-25 years old",
         "Male",
         "No income",
         "singaporean/pr",
         "Friends",
         "medium",
         "Morning (10am-12pm), Afternoon (12pm-5pm)",
         "Fridays, School Holidays",
         "To spend time with family/friends, As part of a larger travel plan (e.g., trip to the area)",
         "Social media ads",
         "Discounts, special offers, or bundles, New attractions or event announcements",
         "6",
         "6",
         "6",
         "3",
         "6",
         "4",
         "6",
         "6",
         "5",
         "6",
         "6",
         "5",
         "5",
         "2",
         "1",
         "2",
         "3",
         "2",
         "3",
         "3",
         "2",
         "Crowd, Costs (F&B, admission tickets, etc.), Long wait time, Unpredictable weather conditions, Boring",
         "A mix of both of the above —some planned rides, but I also go with what’s nearby.",
         "Transportation",
         "6.0",
         null,
         "5.0",
         "4.0",
         "3.0",
         "2.0",
         "1.0",
         "['new_york', 'scifi_city', 'ancient_egypt', 'lost_world', 'far_far_away', 'hollywood']"
        ],
        [
         "94",
         "94",
         "22/02/2025 18:44:37",
         "True",
         "When on vacation",
         "55 and above",
         "Others",
         "$20,000 and above",
         "russian",
         "Family",
         "no_rides",
         "Evening (5pm-7pm)",
         "For special events (eg. Halloween, Christmas etc.), Evenings/Night visits (After 6pm)",
         "Because of a special promotion or discount",
         "Online banner ads",
         "User-generated content (e.g., visitor testimonials, influencer partnerships)",
         "3",
         "4",
         "5",
         "5",
         "4",
         "2",
         "3",
         "1",
         "1",
         "1",
         "2",
         "3",
         "4",
         "1",
         "2",
         "1",
         "2",
         "1",
         "2",
         "3",
         "3",
         "Long wait time",
         "I stick to the few rides/attractions that I enjoy the most.",
         "Transportation",
         "1.0",
         "1.0",
         "2.0",
         "3.0",
         "3.0",
         "2.0",
         "3.0",
         "['hollywood', 'minion_land', 'far_far_away', 'scifi_city', 'lost_world', 'ancient_egypt', 'new_york']"
        ],
        [
         "96",
         "96",
         "22/02/2025 18:58:00",
         "True",
         "Once every year",
         "15-18 years old",
         "Female",
         "No income",
         "singaporean/pr",
         "Friends, Family",
         "medium",
         "Afternoon (12pm-5pm)",
         "For special events (eg. Halloween, Christmas etc.)",
         "To attend a special event or seasonal celebration (e.g., Halloween, Christmas, Exhibitions in collaboration with other franchises), For a relaxing getaway or vacation, As part of a larger travel plan (e.g., trip to the area)",
         "Online banner ads",
         "Discounts, special offers, or bundles",
         "6",
         "3",
         "2",
         "5",
         "5",
         "4",
         "4",
         "6",
         "6",
         "6",
         "5",
         "5",
         "6",
         "1",
         "1",
         "1",
         "1",
         "4",
         "1",
         "5",
         "1",
         "Crowd, Costs (F&B, admission tickets, etc.), Long wait time, Unpredictable weather conditions",
         "I decide based on which rides are closest to me at the moment.",
         "Transportation",
         "4.0",
         "6.0",
         "2.0",
         "3.0",
         "1.0",
         "2.0",
         "5.0",
         "['ancient_egypt', 'far_far_away', 'scifi_city', 'lost_world', 'hollywood', 'new_york', 'minion_land']"
        ],
        [
         "98",
         "98",
         "22/02/2025 19:32:46",
         "True",
         "Once every year",
         "19-25 years old",
         "Female",
         "Below $2000",
         "singaporean/pr",
         "Couple (I go with my partner), Family",
         "high",
         "Afternoon (12pm-5pm), Evening (5pm-7pm)",
         "Weekdays (Mondays to Thursdays), School Holidays, For special events (eg. Halloween, Christmas etc.)",
         "To attend a special event or seasonal celebration (e.g., Halloween, Christmas, Exhibitions in collaboration with other franchises), Because of a special promotion or discount, To spend time with family/friends",
         "Social media ads, Theme park websites or blogs, Promotions or discounts offered by travel agencies or third-party platforms like Agoda, Groupon, etc.",
         "Discounts, special offers, or bundles",
         "6",
         "6",
         "1",
         "4",
         "6",
         "6",
         "6",
         "6",
         "6",
         "6",
         "6",
         "5",
         "7",
         "5",
         "1",
         "4",
         "1",
         "3",
         "1",
         "5",
         "1",
         "Costs (F&B, admission tickets, etc.), Long wait time, Unpredictable weather conditions",
         "A mix of both of the above —some planned rides, but I also go with what’s nearby.",
         "F&B",
         "1.0",
         null,
         "4.0",
         "5.0",
         "3.0",
         "7.0",
         "2.0",
         "['hollywood', 'new_york', 'ancient_egypt', 'far_far_away', 'lost_world', 'scifi_city']"
        ],
        [
         "99",
         "99",
         "22/02/2025 19:33:14",
         "True",
         "< Once every 3 years",
         "19-25 years old",
         "Female",
         "Below $2000",
         "singaporean/pr",
         "Couple (I go with my partner)",
         "high",
         "Morning (10am-12pm), Afternoon (12pm-5pm), Evening (5pm-7pm)",
         "Weekdays (Mondays to Thursdays), Saturdays, Sundays",
         "To spend time with family/friends, As part of a larger travel plan (e.g., trip to the area)",
         "Social media ads, Promotions or discounts offered by travel agencies or third-party platforms like Agoda, Groupon, etc.",
         "Discounts, special offers, or bundles, New attractions or event announcements, User-generated content (e.g., visitor testimonials, influencer partnerships)",
         "7",
         "5",
         "1",
         "2",
         "5",
         "7",
         "5",
         "5",
         "6",
         "7",
         "7",
         "6",
         "7",
         "2",
         "1",
         "1",
         "1",
         "1",
         "1",
         "5",
         "1",
         "Crowd, Costs (F&B, admission tickets, etc.), Long wait time, Unpredictable weather conditions",
         "I decide based on which rides are closest to me at the moment.",
         "Transportation",
         "1.0",
         null,
         "1.0",
         "2.0",
         "3.0",
         "3.0",
         "4.0",
         "['hollywood', 'far_far_away', 'lost_world', 'ancient_egypt', 'scifi_city', 'new_york']"
        ]
       ],
       "shape": {
        "columns": 47,
        "rows": 5
       }
      },
      "text/html": [
       "<div>\n",
       "<style scoped>\n",
       "    .dataframe tbody tr th:only-of-type {\n",
       "        vertical-align: middle;\n",
       "    }\n",
       "\n",
       "    .dataframe tbody tr th {\n",
       "        vertical-align: top;\n",
       "    }\n",
       "\n",
       "    .dataframe thead th {\n",
       "        text-align: right;\n",
       "    }\n",
       "</style>\n",
       "<table border=\"1\" class=\"dataframe\">\n",
       "  <thead>\n",
       "    <tr style=\"text-align: right;\">\n",
       "      <th></th>\n",
       "      <th>response_id</th>\n",
       "      <th>timestamp</th>\n",
       "      <th>visited_US</th>\n",
       "      <th>visit_freq</th>\n",
       "      <th>age</th>\n",
       "      <th>gender</th>\n",
       "      <th>monthly_income</th>\n",
       "      <th>nationality</th>\n",
       "      <th>companion</th>\n",
       "      <th>ride_pref</th>\n",
       "      <th>...</th>\n",
       "      <th>attraction_decision</th>\n",
       "      <th>top_expense</th>\n",
       "      <th>hollywood</th>\n",
       "      <th>minion_land</th>\n",
       "      <th>far_far_away</th>\n",
       "      <th>lost_world</th>\n",
       "      <th>ancient_egypt</th>\n",
       "      <th>scifi_city</th>\n",
       "      <th>new_york</th>\n",
       "      <th>sequences</th>\n",
       "    </tr>\n",
       "  </thead>\n",
       "  <tbody>\n",
       "    <tr>\n",
       "      <th>93</th>\n",
       "      <td>93</td>\n",
       "      <td>22/02/2025 12:23:46</td>\n",
       "      <td>True</td>\n",
       "      <td>When on vacation</td>\n",
       "      <td>19-25 years old</td>\n",
       "      <td>Male</td>\n",
       "      <td>No income</td>\n",
       "      <td>singaporean/pr</td>\n",
       "      <td>Friends</td>\n",
       "      <td>medium</td>\n",
       "      <td>...</td>\n",
       "      <td>A mix of both of the above —some planned rides...</td>\n",
       "      <td>Transportation</td>\n",
       "      <td>6.0</td>\n",
       "      <td>NaN</td>\n",
       "      <td>5.0</td>\n",
       "      <td>4.0</td>\n",
       "      <td>3.0</td>\n",
       "      <td>2.0</td>\n",
       "      <td>1.0</td>\n",
       "      <td>[new_york, scifi_city, ancient_egypt, lost_wor...</td>\n",
       "    </tr>\n",
       "    <tr>\n",
       "      <th>94</th>\n",
       "      <td>94</td>\n",
       "      <td>22/02/2025 18:44:37</td>\n",
       "      <td>True</td>\n",
       "      <td>When on vacation</td>\n",
       "      <td>55 and above</td>\n",
       "      <td>Others</td>\n",
       "      <td>$20,000 and above</td>\n",
       "      <td>russian</td>\n",
       "      <td>Family</td>\n",
       "      <td>no_rides</td>\n",
       "      <td>...</td>\n",
       "      <td>I stick to the few rides/attractions that I en...</td>\n",
       "      <td>Transportation</td>\n",
       "      <td>1.0</td>\n",
       "      <td>1.0</td>\n",
       "      <td>2.0</td>\n",
       "      <td>3.0</td>\n",
       "      <td>3.0</td>\n",
       "      <td>2.0</td>\n",
       "      <td>3.0</td>\n",
       "      <td>[hollywood, minion_land, far_far_away, scifi_c...</td>\n",
       "    </tr>\n",
       "    <tr>\n",
       "      <th>96</th>\n",
       "      <td>96</td>\n",
       "      <td>22/02/2025 18:58:00</td>\n",
       "      <td>True</td>\n",
       "      <td>Once every year</td>\n",
       "      <td>15-18 years old</td>\n",
       "      <td>Female</td>\n",
       "      <td>No income</td>\n",
       "      <td>singaporean/pr</td>\n",
       "      <td>Friends, Family</td>\n",
       "      <td>medium</td>\n",
       "      <td>...</td>\n",
       "      <td>I decide based on which rides are closest to m...</td>\n",
       "      <td>Transportation</td>\n",
       "      <td>4.0</td>\n",
       "      <td>6.0</td>\n",
       "      <td>2.0</td>\n",
       "      <td>3.0</td>\n",
       "      <td>1.0</td>\n",
       "      <td>2.0</td>\n",
       "      <td>5.0</td>\n",
       "      <td>[ancient_egypt, far_far_away, scifi_city, lost...</td>\n",
       "    </tr>\n",
       "    <tr>\n",
       "      <th>98</th>\n",
       "      <td>98</td>\n",
       "      <td>22/02/2025 19:32:46</td>\n",
       "      <td>True</td>\n",
       "      <td>Once every year</td>\n",
       "      <td>19-25 years old</td>\n",
       "      <td>Female</td>\n",
       "      <td>Below $2000</td>\n",
       "      <td>singaporean/pr</td>\n",
       "      <td>Couple (I go with my partner), Family</td>\n",
       "      <td>high</td>\n",
       "      <td>...</td>\n",
       "      <td>A mix of both of the above —some planned rides...</td>\n",
       "      <td>F&amp;B</td>\n",
       "      <td>1.0</td>\n",
       "      <td>NaN</td>\n",
       "      <td>4.0</td>\n",
       "      <td>5.0</td>\n",
       "      <td>3.0</td>\n",
       "      <td>7.0</td>\n",
       "      <td>2.0</td>\n",
       "      <td>[hollywood, new_york, ancient_egypt, far_far_a...</td>\n",
       "    </tr>\n",
       "    <tr>\n",
       "      <th>99</th>\n",
       "      <td>99</td>\n",
       "      <td>22/02/2025 19:33:14</td>\n",
       "      <td>True</td>\n",
       "      <td>&lt; Once every 3 years</td>\n",
       "      <td>19-25 years old</td>\n",
       "      <td>Female</td>\n",
       "      <td>Below $2000</td>\n",
       "      <td>singaporean/pr</td>\n",
       "      <td>Couple (I go with my partner)</td>\n",
       "      <td>high</td>\n",
       "      <td>...</td>\n",
       "      <td>I decide based on which rides are closest to m...</td>\n",
       "      <td>Transportation</td>\n",
       "      <td>1.0</td>\n",
       "      <td>NaN</td>\n",
       "      <td>1.0</td>\n",
       "      <td>2.0</td>\n",
       "      <td>3.0</td>\n",
       "      <td>3.0</td>\n",
       "      <td>4.0</td>\n",
       "      <td>[hollywood, far_far_away, lost_world, ancient_...</td>\n",
       "    </tr>\n",
       "  </tbody>\n",
       "</table>\n",
       "<p>5 rows × 47 columns</p>\n",
       "</div>"
      ],
      "text/plain": [
       "    response_id            timestamp  visited_US            visit_freq  \\\n",
       "93           93  22/02/2025 12:23:46        True      When on vacation   \n",
       "94           94  22/02/2025 18:44:37        True      When on vacation   \n",
       "96           96  22/02/2025 18:58:00        True       Once every year   \n",
       "98           98  22/02/2025 19:32:46        True       Once every year   \n",
       "99           99  22/02/2025 19:33:14        True  < Once every 3 years   \n",
       "\n",
       "                age  gender     monthly_income     nationality  \\\n",
       "93  19-25 years old    Male          No income  singaporean/pr   \n",
       "94     55 and above  Others  $20,000 and above         russian   \n",
       "96  15-18 years old  Female          No income  singaporean/pr   \n",
       "98  19-25 years old  Female        Below $2000  singaporean/pr   \n",
       "99  19-25 years old  Female        Below $2000  singaporean/pr   \n",
       "\n",
       "                                companion ride_pref  ...  \\\n",
       "93                                Friends    medium  ...   \n",
       "94                                 Family  no_rides  ...   \n",
       "96                        Friends, Family    medium  ...   \n",
       "98  Couple (I go with my partner), Family      high  ...   \n",
       "99          Couple (I go with my partner)      high  ...   \n",
       "\n",
       "                                  attraction_decision     top_expense  \\\n",
       "93  A mix of both of the above —some planned rides...  Transportation   \n",
       "94  I stick to the few rides/attractions that I en...  Transportation   \n",
       "96  I decide based on which rides are closest to m...  Transportation   \n",
       "98  A mix of both of the above —some planned rides...             F&B   \n",
       "99  I decide based on which rides are closest to m...  Transportation   \n",
       "\n",
       "   hollywood minion_land far_far_away  lost_world  ancient_egypt  scifi_city  \\\n",
       "93       6.0         NaN          5.0         4.0            3.0         2.0   \n",
       "94       1.0         1.0          2.0         3.0            3.0         2.0   \n",
       "96       4.0         6.0          2.0         3.0            1.0         2.0   \n",
       "98       1.0         NaN          4.0         5.0            3.0         7.0   \n",
       "99       1.0         NaN          1.0         2.0            3.0         3.0   \n",
       "\n",
       "    new_york                                          sequences  \n",
       "93       1.0  [new_york, scifi_city, ancient_egypt, lost_wor...  \n",
       "94       3.0  [hollywood, minion_land, far_far_away, scifi_c...  \n",
       "96       5.0  [ancient_egypt, far_far_away, scifi_city, lost...  \n",
       "98       2.0  [hollywood, new_york, ancient_egypt, far_far_a...  \n",
       "99       4.0  [hollywood, far_far_away, lost_world, ancient_...  \n",
       "\n",
       "[5 rows x 47 columns]"
      ]
     },
     "execution_count": 2,
     "metadata": {},
     "output_type": "execute_result"
    }
   ],
   "source": [
    "# subset full survey response of relevant data\n",
    "target_rows = path_matrix.index.values.tolist()\n",
    "target_entries = df.loc[target_rows]\n",
    "\n",
    "# CREATING ORDERED SEQUENCES\n",
    "# Function to sort a row and return ordered column names\n",
    "def sort_row(row):\n",
    "    return row.dropna().sort_values().index.tolist()\n",
    "\n",
    "# Apply function row-wise\n",
    "ordered_sequences = path_matrix.apply(sort_row, axis=1)\n",
    "\n",
    "# concat ordered sequences to target_entries data for easy retrival\n",
    "target_entries = pd.concat([target_entries, ordered_sequences], axis=1)\n",
    "target_entries = target_entries.rename(columns={'Unnamed: 0' : 'response_id', 0:'sequences'})\n",
    "print(target_entries.shape)\n",
    "target_entries.head()\n"
   ]
  },
  {
   "cell_type": "markdown",
   "metadata": {},
   "source": [
    "### data exploration"
   ]
  },
  {
   "cell_type": "markdown",
   "metadata": {},
   "source": [
    "#### guest paths"
   ]
  },
  {
   "cell_type": "code",
   "execution_count": 3,
   "metadata": {},
   "outputs": [
    {
     "data": {
      "image/png": "[encoded data removed]",
      "text/plain": [
       "<Figure size 1500x1000 with 7 Axes>"
      ]
     },
     "metadata": {},
     "output_type": "display_data"
    }
   ],
   "source": [
    "import matplotlib.pyplot as plt\n",
    "import seaborn as sns\n",
    "\n",
    "# Sample data\n",
    "df = path_matrix\n",
    "\n",
    "# Create subplots\n",
    "num_cols = len(df.columns)\n",
    "fig, axes = plt.subplots(nrows=(num_cols + 2) // 3, ncols=3, figsize=(15, 10))  # Adjust rows/columns\n",
    "axes = axes.flatten()\n",
    "\n",
    "# Generate bar plots\n",
    "for i, col in enumerate(df.columns):\n",
    "    counts = df[col].value_counts(dropna=False).sort_index()  # Include NaNs and sort categories\n",
    "    sns.barplot(x=counts.index.astype(str), y=counts.values, ax=axes[i])\n",
    "    axes[i].set_ylim(0, 13)\n",
    "    axes[i].set_title(f\"frequency of path order for {col}\")\n",
    "    axes[i].set_xlabel('order of sequence')\n",
    "    axes[i].set_ylabel(\"count\")\n",
    "    \n",
    "    # Add value labels\n",
    "    for j, v in enumerate(counts.values):\n",
    "        axes[i].text(j, v + 0.1, str(v), ha='center', fontsize=10)\n",
    "\n",
    "    axes[i].tick_params(axis='x', rotation=45)\n",
    "\n",
    "# Remove empty subplots if any\n",
    "for j in range(i + 1, len(axes)):\n",
    "    fig.delaxes(axes[j])\n",
    "\n",
    "plt.tight_layout()\n",
    "plt.show()\n"
   ]
  },
  {
   "cell_type": "markdown",
   "metadata": {},
   "source": [
    "#### observations worth observing\n",
    "- significant people skip lost_world and new_york\n",
    "- sci-fi and far far away is one of the first few places people visit\n",
    "- lost world and ancient egypt are usually the 3rd zone to visit - largely the middle of their time in uss\n",
    "- minion_land is popular as the first attraction to visit, possibly due to its recent opening\n",
    "- minion_land high na count can be factored in as those who have visited uss before the opening of minion_land\n"
   ]
  },
  {
   "cell_type": "markdown",
   "metadata": {},
   "source": [
    "### information of zones"
   ]
  },
  {
   "cell_type": "code",
   "execution_count": 4,
   "metadata": {},
   "outputs": [],
   "source": [
    "df1 = pd.read_csv('../data/uss_attraction_details/attractions.csv')\n",
    "df2 = pd.read_csv('../data/uss_attraction_details/rides.csv')\n",
    "intensity = pd.DataFrame({'intensity':['medium', 'medium', 'high', 'high', 'low', 'medium', 'medium', 'low', 'medium', 'medium', 'low', 'medium', 'high', 'medium', 'medium', 'low', 'high', 'low']})\n",
    "rides = pd.concat([df1, df2, intensity], axis=1, join='inner')\n",
    "rides = rides[['Zone', 'ride', 'type', 'environment', 'intensity']]"
   ]
  },
  {
   "cell_type": "code",
   "execution_count": 5,
   "metadata": {},
   "outputs": [
    {
     "name": "stdout",
     "output_type": "stream",
     "text": [
      "                          intensity\n",
      "Zone                               \n",
      "Ancient Egypt                  high\n",
      "Far Far Away                 medium\n",
      "Illumination's Minon Land       low\n",
      "New York                     medium\n",
      "Sci-Fi City                    high\n",
      "The Lost World               medium\n"
     ]
    }
   ],
   "source": [
    "zone_intensity = rides[['Zone', 'intensity']]\n",
    "intensity_order = {\"high\": 3, \"medium\": 2, \"low\": 1} #prioritise upper bound as tiebreaker\n",
    "zone_intensity = zone_intensity.groupby('Zone')['intensity'].agg(lambda x: x.mode()[x.mode().map(intensity_order).argmax()])\n",
    "print(pd.DataFrame(zone_intensity))"
   ]
  },
  {
   "cell_type": "markdown",
   "metadata": {},
   "source": [
    "**HOLLYWOOD HAS NO RIDES SO THEY HAVE NO INTENSITY RATING**"
   ]
  },
  {
   "cell_type": "markdown",
   "metadata": {},
   "source": [
    "### Sequence Analysis - spmf library"
   ]
  },
  {
   "cell_type": "markdown",
   "metadata": {},
   "source": [
    "#### by ride intensity preference"
   ]
  },
  {
   "cell_type": "code",
   "execution_count": 6,
   "metadata": {},
   "outputs": [
    {
     "name": "stdout",
     "output_type": "stream",
     "text": [
      "high intensity guests:  16 \n",
      "medium intensity guests:  12 \n",
      "low intensity guests:  4\n"
     ]
    }
   ],
   "source": [
    "high_guests = target_entries[target_entries['ride_pref'] == 'high']\n",
    "med_guests = target_entries[target_entries['ride_pref'] == 'medium']\n",
    "low_guests = target_entries[target_entries['ride_pref'] == 'low']\n",
    "print('high intensity guests: ', high_guests.shape[0], '\\nmedium intensity guests: ', med_guests.shape[0], '\\nlow intensity guests: ', low_guests.shape[0])"
   ]
  },
  {
   "cell_type": "code",
   "execution_count": 7,
   "metadata": {},
   "outputs": [
    {
     "name": "stdout",
     "output_type": "stream",
     "text": [
      ">/C:/Users/Wan Sim/Documents/GitHub/DSA3101-Group5/guest_journey_path/spmf/spmf.jar\n",
      "=============  PREFIXSPAN 0.99-2016 - STATISTICS =============\n",
      " Total time ~ 4 ms\n",
      " Frequent sequences count : 63\n",
      " Max memory (mb) : 10.960517883300781\n",
      " minsup = 5 sequences.\n",
      " Pattern count : 63\n",
      "===================================================\n",
      "\n",
      "Post-processing to show result in terms of string values.\n",
      "Post-processing completed.\n",
      "\n",
      ">/C:/Users/Wan Sim/Documents/GitHub/DSA3101-Group5/guest_journey_path/spmf/spmf.jar\n",
      "=============  PREFIXSPAN 0.99-2016 - STATISTICS =============\n",
      " Total time ~ 4 ms\n",
      " Frequent sequences count : 68\n",
      " Max memory (mb) : 11.455718994140625\n",
      " minsup = 4 sequences.\n",
      " Pattern count : 68\n",
      "===================================================\n",
      "\n",
      "Post-processing to show result in terms of string values.\n",
      "Post-processing completed.\n",
      "\n",
      ">/C:/Users/Wan Sim/Documents/GitHub/DSA3101-Group5/guest_journey_path/spmf/spmf.jar\n",
      "=============  PREFIXSPAN 0.99-2016 - STATISTICS =============\n",
      " Total time ~ 4 ms\n",
      " Frequent sequences count : 21\n",
      " Max memory (mb) : 11.455718994140625\n",
      " minsup = 2 sequences.\n",
      " Pattern count : 21\n",
      "===================================================\n",
      "\n",
      "Post-processing to show result in terms of string values.\n",
      "Post-processing completed.\n",
      "\n"
     ]
    }
   ],
   "source": [
    "import sequence_mining as sm\n",
    "high_seq = sm.sequence_mining(high_guests['sequences'])\n",
    "med_seq = sm.sequence_mining(med_guests['sequences'])\n",
    "low_seq = sm.sequence_mining(low_guests['sequences'])"
   ]
  },
  {
   "cell_type": "code",
   "execution_count": 8,
   "metadata": {},
   "outputs": [
    {
     "name": "stdout",
     "output_type": "stream",
     "text": [
      "                                    pattern  sup\n",
      "9                            [far_far_away]   16\n",
      "33                          [ancient_egypt]   16\n",
      "44                             [scifi_city]   16\n",
      "58                               [new_york]   16\n",
      "20                             [lost_world]   15\n",
      "..                                      ...  ...\n",
      "49     [scifi_city, far_far_away, new_york]    5\n",
      "22     [lost_world, hollywood, minion_land]    5\n",
      "26   [lost_world, ancient_egypt, hollywood]    5\n",
      "38  [ancient_egypt, far_far_away, new_york]    5\n",
      "62                [new_york, ancient_egypt]    5\n",
      "\n",
      "[63 rows x 2 columns]\n"
     ]
    }
   ],
   "source": [
    "print(high_seq.sort_values('sup', ascending=False))"
   ]
  },
  {
   "cell_type": "code",
   "execution_count": 9,
   "metadata": {},
   "outputs": [
    {
     "name": "stdout",
     "output_type": "stream",
     "text": [
      "                                             pattern  sup\n",
      "0                                        [hollywood]   11\n",
      "9                                      [minion_land]   11\n",
      "61                                      [scifi_city]   11\n",
      "54                                   [ancient_egypt]   10\n",
      "32                                    [far_far_away]   10\n",
      "..                                               ...  ...\n",
      "36         [far_far_away, lost_world, ancient_egypt]    4\n",
      "38            [far_far_away, lost_world, scifi_city]    4\n",
      "39  [far_far_away, lost_world, scifi_city, new_york]    4\n",
      "41                     [far_far_away, ancient_egypt]    4\n",
      "34                       [far_far_away, minion_land]    4\n",
      "\n",
      "[68 rows x 2 columns]\n"
     ]
    }
   ],
   "source": [
    "print(med_seq.sort_values('sup', ascending=False))"
   ]
  },
  {
   "cell_type": "code",
   "execution_count": 10,
   "metadata": {},
   "outputs": [
    {
     "name": "stdout",
     "output_type": "stream",
     "text": [
      "                                       pattern  sup\n",
      "13                              [far_far_away]    4\n",
      "0                                  [hollywood]    3\n",
      "19                                [scifi_city]    3\n",
      "3                                [minion_land]    3\n",
      "5                  [minion_land, far_far_away]    3\n",
      "12                     [minion_land, new_york]    2\n",
      "18                             [ancient_egypt]    2\n",
      "17                                [lost_world]    2\n",
      "16                  [far_far_away, scifi_city]    2\n",
      "15               [far_far_away, ancient_egypt]    2\n",
      "14                  [far_far_away, lost_world]    2\n",
      "10                [minion_land, ancient_egypt]    2\n",
      "11                   [minion_land, scifi_city]    2\n",
      "1                    [hollywood, far_far_away]    2\n",
      "9                    [minion_land, lost_world]    2\n",
      "8      [minion_land, far_far_away, scifi_city]    2\n",
      "7   [minion_land, far_far_away, ancient_egypt]    2\n",
      "6      [minion_land, far_far_away, lost_world]    2\n",
      "4                     [minion_land, hollywood]    2\n",
      "2                      [hollywood, scifi_city]    2\n",
      "20                                  [new_york]    2\n"
     ]
    }
   ],
   "source": [
    "print(low_seq.sort_values('sup', ascending=False))"
   ]
  },
  {
   "cell_type": "markdown",
   "metadata": {},
   "source": [
    "there is one russian fella that indicated no_rides... what do i do with him/her/them..."
   ]
  },
  {
   "cell_type": "markdown",
   "metadata": {},
   "source": [
    "### sankey diagram\n",
    "was maybe a bad idea"
   ]
  },
  {
   "cell_type": "code",
   "execution_count": 11,
   "metadata": {},
   "outputs": [],
   "source": [
    "# pip install plotly"
   ]
  },
  {
   "cell_type": "code",
   "execution_count": 12,
   "metadata": {},
   "outputs": [
    {
     "data": {
      "application/vnd.plotly.v1+json": {
       "config": {
        "plotlyServerURL": "https://plot.ly"
       },
       "data": [
        {
         "link": {
          "source": [
           5,
           6,
           0,
           3,
           1,
           2,
           4,
           1,
           6,
           3,
           0,
           0,
           3,
           2,
           5,
           5,
           1,
           3,
           2,
           0,
           6,
           4,
           5,
           1,
           2,
           6,
           1,
           5,
           0,
           4,
           3,
           6,
           4,
           0,
           4,
           3,
           6,
           2
          ],
          "target": [
           6,
           0,
           3,
           1,
           2,
           4,
           1,
           6,
           3,
           0,
           5,
           1,
           2,
           5,
           4,
           0,
           3,
           6,
           1,
           6,
           5,
           5,
           2,
           5,
           6,
           1,
           4,
           1,
           4,
           3,
           5,
           4,
           0,
           2,
           2,
           4,
           2,
           3
          ],
          "value": [
           2,
           9,
           5,
           5,
           4,
           6,
           11,
           5,
           4,
           13,
           2,
           7,
           3,
           6,
           4,
           3,
           13,
           2,
           4,
           11,
           9,
           2,
           6,
           3,
           4,
           1,
           2,
           2,
           2,
           1,
           2,
           4,
           2,
           2,
           4,
           1,
           3,
           1
          ]
         },
         "node": {
          "label": [
           "ancient_egypt",
           "far_far_away",
           "hollywood",
           "lost_world",
           "minion_land",
           "new_york",
           "scifi_city"
          ],
          "pad": 15,
          "thickness": 20
         },
         "type": "sankey"
        }
       ],
       "layout": {
        "font": {
         "size": 10
        },
        "template": {
         "data": {
          "bar": [
           {
            "error_x": {
             "color": "#2a3f5f"
            },
            "error_y": {
             "color": "#2a3f5f"
            },
            "marker": {
             "line": {
              "color": "#E5ECF6",
              "width": 0.5
             },
             "pattern": {
              "fillmode": "overlay",
              "size": 10,
              "solidity": 0.2
             }
            },
            "type": "bar"
           }
          ],
          "barpolar": [
           {
            "marker": {
             "line": {
              "color": "#E5ECF6",
              "width": 0.5
             },
             "pattern": {
              "fillmode": "overlay",
              "size": 10,
              "solidity": 0.2
             }
            },
            "type": "barpolar"
           }
          ],
          "carpet": [
           {
            "aaxis": {
             "endlinecolor": "#2a3f5f",
             "gridcolor": "white",
             "linecolor": "white",
             "minorgridcolor": "white",
             "startlinecolor": "#2a3f5f"
            },
            "baxis": {
             "endlinecolor": "#2a3f5f",
             "gridcolor": "white",
             "linecolor": "white",
             "minorgridcolor": "white",
             "startlinecolor": "#2a3f5f"
            },
            "type": "carpet"
           }
          ],
          "choropleth": [
           {
            "colorbar": {
             "outlinewidth": 0,
             "ticks": ""
            },
            "type": "choropleth"
           }
          ],
          "contour": [
           {
            "colorbar": {
             "outlinewidth": 0,
             "ticks": ""
            },
            "colorscale": [
             [
              0,
              "#0d0887"
             ],
             [
              0.1111111111111111,
              "#46039f"
             ],
             [
              0.2222222222222222,
              "#7201a8"
             ],
             [
              0.3333333333333333,
              "#9c179e"
             ],
             [
              0.4444444444444444,
              "#bd3786"
             ],
             [
              0.5555555555555556,
              "#d8576b"
             ],
             [
              0.6666666666666666,
              "#ed7953"
             ],
             [
              0.7777777777777778,
              "#fb9f3a"
             ],
             [
              0.8888888888888888,
              "#fdca26"
             ],
             [
              1,
              "#f0f921"
             ]
            ],
            "type": "contour"
           }
          ],
          "contourcarpet": [
           {
            "colorbar": {
             "outlinewidth": 0,
             "ticks": ""
            },
            "type": "contourcarpet"
           }
          ],
          "heatmap": [
           {
            "colorbar": {
             "outlinewidth": 0,
             "ticks": ""
            },
            "colorscale": [
             [
              0,
              "#0d0887"
             ],
             [
              0.1111111111111111,
              "#46039f"
             ],
             [
              0.2222222222222222,
              "#7201a8"
             ],
             [
              0.3333333333333333,
              "#9c179e"
             ],
             [
              0.4444444444444444,
              "#bd3786"
             ],
             [
              0.5555555555555556,
              "#d8576b"
             ],
             [
              0.6666666666666666,
              "#ed7953"
             ],
             [
              0.7777777777777778,
              "#fb9f3a"
             ],
             [
              0.8888888888888888,
              "#fdca26"
             ],
             [
              1,
              "#f0f921"
             ]
            ],
            "type": "heatmap"
           }
          ],
          "histogram": [
           {
            "marker": {
             "pattern": {
              "fillmode": "overlay",
              "size": 10,
              "solidity": 0.2
             }
            },
            "type": "histogram"
           }
          ],
          "histogram2d": [
           {
            "colorbar": {
             "outlinewidth": 0,
             "ticks": ""
            },
            "colorscale": [
             [
              0,
              "#0d0887"
             ],
             [
              0.1111111111111111,
              "#46039f"
             ],
             [
              0.2222222222222222,
              "#7201a8"
             ],
             [
              0.3333333333333333,
              "#9c179e"
             ],
             [
              0.4444444444444444,
              "#bd3786"
             ],
             [
              0.5555555555555556,
              "#d8576b"
             ],
             [
              0.6666666666666666,
              "#ed7953"
             ],
             [
              0.7777777777777778,
              "#fb9f3a"
             ],
             [
              0.8888888888888888,
              "#fdca26"
             ],
             [
              1,
              "#f0f921"
             ]
            ],
            "type": "histogram2d"
           }
          ],
          "histogram2dcontour": [
           {
            "colorbar": {
             "outlinewidth": 0,
             "ticks": ""
            },
            "colorscale": [
             [
              0,
              "#0d0887"
             ],
             [
              0.1111111111111111,
              "#46039f"
             ],
             [
              0.2222222222222222,
              "#7201a8"
             ],
             [
              0.3333333333333333,
              "#9c179e"
             ],
             [
              0.4444444444444444,
              "#bd3786"
             ],
             [
              0.5555555555555556,
              "#d8576b"
             ],
             [
              0.6666666666666666,
              "#ed7953"
             ],
             [
              0.7777777777777778,
              "#fb9f3a"
             ],
             [
              0.8888888888888888,
              "#fdca26"
             ],
             [
              1,
              "#f0f921"
             ]
            ],
            "type": "histogram2dcontour"
           }
          ],
          "mesh3d": [
           {
            "colorbar": {
             "outlinewidth": 0,
             "ticks": ""
            },
            "type": "mesh3d"
           }
          ],
          "parcoords": [
           {
            "line": {
             "colorbar": {
              "outlinewidth": 0,
              "ticks": ""
             }
            },
            "type": "parcoords"
           }
          ],
          "pie": [
           {
            "automargin": true,
            "type": "pie"
           }
          ],
          "scatter": [
           {
            "fillpattern": {
             "fillmode": "overlay",
             "size": 10,
             "solidity": 0.2
            },
            "type": "scatter"
           }
          ],
          "scatter3d": [
           {
            "line": {
             "colorbar": {
              "outlinewidth": 0,
              "ticks": ""
             }
            },
            "marker": {
             "colorbar": {
              "outlinewidth": 0,
              "ticks": ""
             }
            },
            "type": "scatter3d"
           }
          ],
          "scattercarpet": [
           {
            "marker": {
             "colorbar": {
              "outlinewidth": 0,
              "ticks": ""
             }
            },
            "type": "scattercarpet"
           }
          ],
          "scattergeo": [
           {
            "marker": {
             "colorbar": {
              "outlinewidth": 0,
              "ticks": ""
             }
            },
            "type": "scattergeo"
           }
          ],
          "scattergl": [
           {
            "marker": {
             "colorbar": {
              "outlinewidth": 0,
              "ticks": ""
             }
            },
            "type": "scattergl"
           }
          ],
          "scattermap": [
           {
            "marker": {
             "colorbar": {
              "outlinewidth": 0,
              "ticks": ""
             }
            },
            "type": "scattermap"
           }
          ],
          "scattermapbox": [
           {
            "marker": {
             "colorbar": {
              "outlinewidth": 0,
              "ticks": ""
             }
            },
            "type": "scattermapbox"
           }
          ],
          "scatterpolar": [
           {
            "marker": {
             "colorbar": {
              "outlinewidth": 0,
              "ticks": ""
             }
            },
            "type": "scatterpolar"
           }
          ],
          "scatterpolargl": [
           {
            "marker": {
             "colorbar": {
              "outlinewidth": 0,
              "ticks": ""
             }
            },
            "type": "scatterpolargl"
           }
          ],
          "scatterternary": [
           {
            "marker": {
             "colorbar": {
              "outlinewidth": 0,
              "ticks": ""
             }
            },
            "type": "scatterternary"
           }
          ],
          "surface": [
           {
            "colorbar": {
             "outlinewidth": 0,
             "ticks": ""
            },
            "colorscale": [
             [
              0,
              "#0d0887"
             ],
             [
              0.1111111111111111,
              "#46039f"
             ],
             [
              0.2222222222222222,
              "#7201a8"
             ],
             [
              0.3333333333333333,
              "#9c179e"
             ],
             [
              0.4444444444444444,
              "#bd3786"
             ],
             [
              0.5555555555555556,
              "#d8576b"
             ],
             [
              0.6666666666666666,
              "#ed7953"
             ],
             [
              0.7777777777777778,
              "#fb9f3a"
             ],
             [
              0.8888888888888888,
              "#fdca26"
             ],
             [
              1,
              "#f0f921"
             ]
            ],
            "type": "surface"
           }
          ],
          "table": [
           {
            "cells": {
             "fill": {
              "color": "#EBF0F8"
             },
             "line": {
              "color": "white"
             }
            },
            "header": {
             "fill": {
              "color": "#C8D4E3"
             },
             "line": {
              "color": "white"
             }
            },
            "type": "table"
           }
          ]
         },
         "layout": {
          "annotationdefaults": {
           "arrowcolor": "#2a3f5f",
           "arrowhead": 0,
           "arrowwidth": 1
          },
          "autotypenumbers": "strict",
          "coloraxis": {
           "colorbar": {
            "outlinewidth": 0,
            "ticks": ""
           }
          },
          "colorscale": {
           "diverging": [
            [
             0,
             "#8e0152"
            ],
            [
             0.1,
             "#c51b7d"
            ],
            [
             0.2,
             "#de77ae"
            ],
            [
             0.3,
             "#f1b6da"
            ],
            [
             0.4,
             "#fde0ef"
            ],
            [
             0.5,
             "#f7f7f7"
            ],
            [
             0.6,
             "#e6f5d0"
            ],
            [
             0.7,
             "#b8e186"
            ],
            [
             0.8,
             "#7fbc41"
            ],
            [
             0.9,
             "#4d9221"
            ],
            [
             1,
             "#276419"
            ]
           ],
           "sequential": [
            [
             0,
             "#0d0887"
            ],
            [
             0.1111111111111111,
             "#46039f"
            ],
            [
             0.2222222222222222,
             "#7201a8"
            ],
            [
             0.3333333333333333,
             "#9c179e"
            ],
            [
             0.4444444444444444,
             "#bd3786"
            ],
            [
             0.5555555555555556,
             "#d8576b"
            ],
            [
             0.6666666666666666,
             "#ed7953"
            ],
            [
             0.7777777777777778,
             "#fb9f3a"
            ],
            [
             0.8888888888888888,
             "#fdca26"
            ],
            [
             1,
             "#f0f921"
            ]
           ],
           "sequentialminus": [
            [
             0,
             "#0d0887"
            ],
            [
             0.1111111111111111,
             "#46039f"
            ],
            [
             0.2222222222222222,
             "#7201a8"
            ],
            [
             0.3333333333333333,
             "#9c179e"
            ],
            [
             0.4444444444444444,
             "#bd3786"
            ],
            [
             0.5555555555555556,
             "#d8576b"
            ],
            [
             0.6666666666666666,
             "#ed7953"
            ],
            [
             0.7777777777777778,
             "#fb9f3a"
            ],
            [
             0.8888888888888888,
             "#fdca26"
            ],
            [
             1,
             "#f0f921"
            ]
           ]
          },
          "colorway": [
           "#636efa",
           "#EF553B",
           "#00cc96",
           "#ab63fa",
           "#FFA15A",
           "#19d3f3",
           "#FF6692",
           "#B6E880",
           "#FF97FF",
           "#FECB52"
          ],
          "font": {
           "color": "#2a3f5f"
          },
          "geo": {
           "bgcolor": "white",
           "lakecolor": "white",
           "landcolor": "#E5ECF6",
           "showlakes": true,
           "showland": true,
           "subunitcolor": "white"
          },
          "hoverlabel": {
           "align": "left"
          },
          "hovermode": "closest",
          "mapbox": {
           "style": "light"
          },
          "paper_bgcolor": "white",
          "plot_bgcolor": "#E5ECF6",
          "polar": {
           "angularaxis": {
            "gridcolor": "white",
            "linecolor": "white",
            "ticks": ""
           },
           "bgcolor": "#E5ECF6",
           "radialaxis": {
            "gridcolor": "white",
            "linecolor": "white",
            "ticks": ""
           }
          },
          "scene": {
           "xaxis": {
            "backgroundcolor": "#E5ECF6",
            "gridcolor": "white",
            "gridwidth": 2,
            "linecolor": "white",
            "showbackground": true,
            "ticks": "",
            "zerolinecolor": "white"
           },
           "yaxis": {
            "backgroundcolor": "#E5ECF6",
            "gridcolor": "white",
            "gridwidth": 2,
            "linecolor": "white",
            "showbackground": true,
            "ticks": "",
            "zerolinecolor": "white"
           },
           "zaxis": {
            "backgroundcolor": "#E5ECF6",
            "gridcolor": "white",
            "gridwidth": 2,
            "linecolor": "white",
            "showbackground": true,
            "ticks": "",
            "zerolinecolor": "white"
           }
          },
          "shapedefaults": {
           "line": {
            "color": "#2a3f5f"
           }
          },
          "ternary": {
           "aaxis": {
            "gridcolor": "white",
            "linecolor": "white",
            "ticks": ""
           },
           "baxis": {
            "gridcolor": "white",
            "linecolor": "white",
            "ticks": ""
           },
           "bgcolor": "#E5ECF6",
           "caxis": {
            "gridcolor": "white",
            "linecolor": "white",
            "ticks": ""
           }
          },
          "title": {
           "x": 0.05
          },
          "xaxis": {
           "automargin": true,
           "gridcolor": "white",
           "linecolor": "white",
           "ticks": "",
           "title": {
            "standoff": 15
           },
           "zerolinecolor": "white",
           "zerolinewidth": 2
          },
          "yaxis": {
           "automargin": true,
           "gridcolor": "white",
           "linecolor": "white",
           "ticks": "",
           "title": {
            "standoff": 15
           },
           "zerolinecolor": "white",
           "zerolinewidth": 2
          }
         }
        },
        "title": {
         "text": "Theme Park Guest Journey Sankey Diagram"
        }
       }
      }
     },
     "metadata": {},
     "output_type": "display_data"
    }
   ],
   "source": [
    "import plotly.graph_objects as go\n",
    "from collections import defaultdict\n",
    "\n",
    "# Your dataset\n",
    "journeys = ordered_sequences\n",
    "\n",
    "# Create node labels\n",
    "unique_places = sorted(set([place for journey in journeys for place in journey]))\n",
    "node_indices = {place: idx for idx, place in enumerate(unique_places)}\n",
    "\n",
    "# Create link data\n",
    "link_counts = defaultdict(int)\n",
    "for journey in journeys:\n",
    "    for i in range(len(journey) - 1):\n",
    "        link_counts[(journey[i], journey[i + 1])] += 1\n",
    "\n",
    "# Extract source, target, and values\n",
    "sources = [node_indices[src] for src, tgt in link_counts.keys()]\n",
    "targets = [node_indices[tgt] for src, tgt in link_counts.keys()]\n",
    "values = list(link_counts.values())\n",
    "\n",
    "# Create Sankey diagram\n",
    "fig = go.Figure(go.Sankey(\n",
    "    node=dict(\n",
    "        pad=15,\n",
    "        thickness=20,\n",
    "        label=unique_places\n",
    "    ),\n",
    "    link=dict(\n",
    "        source=sources,\n",
    "        target=targets,\n",
    "        value=values\n",
    "    )\n",
    "))\n",
    "\n",
    "fig.update_layout(title_text=\"Theme Park Guest Journey Sankey Diagram\", font_size=10)\n",
    "fig.show()\n"
   ]
  },
  {
   "cell_type": "markdown",
   "metadata": {},
   "source": [
    "this graph takes too much braincells to read so lets just not use it"
   ]
  }
 ],
 "metadata": {
  "kernelspec": {
   "display_name": "Python 3",
   "language": "python",
   "name": "python3"
  },
  "language_info": {
   "codemirror_mode": {
    "name": "ipython",
    "version": 3
   },
   "file_extension": ".py",
   "mimetype": "text/x-python",
   "name": "python",
   "nbconvert_exporter": "python",
   "pygments_lexer": "ipython3",
   "version": "3.10.6"
  }
 },
 "nbformat": 4,
 "nbformat_minor": 2
}
